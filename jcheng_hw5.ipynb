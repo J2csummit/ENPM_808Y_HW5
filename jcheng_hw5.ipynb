{
 "cells": [
  {
   "cell_type": "markdown",
   "metadata": {
    "id": "wtk0O9ycJJEk"
   },
   "source": [
    "## **Programming Assignment 3: Deep Learning**\n",
    "### ENPM808Y — Fundamentals of AI and Machine Learning — Spring 2023\n",
    "Project Due: Thrusday, March 9, 2023 at 11:59pm\n",
    "\n",
    "Late Policy: 10% penalty\n",
    "\n",
    "\n",
    "Motivation. This project is designed to familiarize you with using ML frameworks for deep learning. In particular, there are the following learning goals:\n",
    "\n",
    "Practice writing code that implements neural network training in an ML framework, such as PyTorch, that supports backpropagation.\n",
    "\n",
    "\n",
    "**Submission**\n",
    "\n",
    "You will submit this notebook to ELMS."
   ]
  },
  {
   "cell_type": "markdown",
   "metadata": {
    "id": "e2mUik0hBKfC"
   },
   "source": [
    "# Introduction to Neural Networks \n",
    "\n",
    "## Introduction\n",
    "\n",
    "Neural networks are becoming increasingly more popular and are responsible for some of the most cutting edge advancements in data science including image and speech recognition. They have also been transformative in reducing the need for intensive and often time intensive feature engineering needed for traditional supervised learning tasks. In this lesson, we'll investigate the architecture of neural networks.\n",
    "\n",
    "## Objectives\n",
    "\n",
    "You will be able to:\n",
    "\n",
    "- Explain what neural networks are and what they can achieve \n",
    "- List the components of a neural network \n",
    "- Explain forward propagation in a neural network \n",
    "- Explain backward propagation and discuss how it is related to forward propagation "
   ]
  },
  {
   "cell_type": "markdown",
   "metadata": {
    "id": "DSAtZcmaBKfF"
   },
   "source": [
    "## What is a neural network? \n",
    "\n",
    "Let's start with an easy example to get an idea of what a neural network is. Imagine a city has 10 ice cream vendors. We would like to predict what the sales amount is for an ice cream vendor given certain input features. Let's say you have several features to predict the sales for each ice cream vendor: the location, the way the ice cream is priced, and the variety in the ice cream offerings.\n",
    "\n",
    "Let's look at the input feature *location*. You know that one of the things that really affects the sales is how many people will walk by the ice cream shop, as these are all potential customers. And realistically, the volume of people passing is largely driven by the *location*. \n",
    "\n",
    "Next, let's look at the input feature *pricing*. How the ice cream is priced really tells us something about the affordability, which will affect sales as well. \n",
    "\n",
    "Last, let's look at the *variety in offering*. When an ice cream shop offers a lot of different ice cream flavors, this might be perceived as a higher quality shop just because customers have more flavors to choose from (and might really like that!). On the other hand, *pricing* might also affect perceived quality: customers might feel that the quality is higher if the prices are higher. This shows that several inputs might affect one hidden feature, as these features in the so-called \"hidden layer\" are called. \n",
    "\n",
    "In reality, all features will be connected with all nodes in the hidden layer, and weights will be assigned to the edges (more about this later), as you can see in the network below. That's why networks like this are also referred to as **densely connected neural networks**. \n",
    "![any name you like](https://drive.google.com/uc?export=view&id=1yhWkR_cUSxkQOw93d5SR7cJKMjGVSgA8)\n",
    "\n"
   ]
  },
  {
   "cell_type": "markdown",
   "metadata": {
    "id": "oCSxRjADBKfF"
   },
   "source": [
    "When we generalize this, a neural network looks like the configuration below. \n",
    "\n",
    "As you can see, to implement a neural network, we need to feed it the inputs $x_i$ (location, pricing, and variety in this example) and the outcome $y$ (pricing in this example), and all the features in the middle will be figured out automatically in the network. That's why this layer is called the **hidden layer**, with the nodes representing **hidden units**.  \n",
    "\n",
    "![](https://drive.google.com/uc?export=view&id=1bd8DxbAAvnY-NXqGmOw2ALTKKjan3VBG)\n",
    "\n",
    "\n"
   ]
  },
  {
   "cell_type": "markdown",
   "metadata": {
    "id": "7Af90HRLBKfG"
   },
   "source": [
    "## The power of deep learning \n",
    "\n",
    "In our previous example, we have three input units, a hidden layer with 4 units, and 1 output unit. Notice that networks come in all shapes and sizes. This is only one example of what deep learning is capable of! The network described above can be extended almost endlessly:\n",
    "\n",
    "- We can add more features (nodes) in the input layer \n",
    "- We can add more nodes in the hidden layer. Also, we can simply add more hidden layers. This is what turns a neural network into a \"deep\" neural network (hence, deep learning)\n",
    "- We can also have several nodes in the output layer  \n",
    "\n",
    "![](https://drive.google.com/uc?export=view&id=1ruAlvIzRtCBy5kl_b62AfRPdcfSsip4d)"
   ]
  },
  {
   "cell_type": "markdown",
   "metadata": {
    "id": "9TQRyDp6BKfG"
   },
   "source": [
    "And there is one more thing that makes deep learning extremely powerful: unlike many other statistical and machine learning techniques, deep learning can deal extremely well with **unstructured data**.\n",
    "\n",
    "\n",
    "In the ice cream vendor example, the input features can be seen as **structured data**. The input features very much take a form of a \"classical\" dataset: observations are rows, features are columns. Examples of **unstructured data**, however, are images, audio files, text data, etc. Historically, and unlike humans, machines had a very hard time interpreting unstructured data. Deep learning was really able to drastically improve machine performance when using unstructured data!\n",
    "\n",
    "To illustrate the power of deep learning, we describe some applications of deep learning below: \n",
    "\n",
    "| x | y |\n",
    "|---|---|\n",
    "| features of an ice cream shop  | sales |\n",
    "| Pictures of cats vs dogs | cat or dog? |\n",
    "| Pictures of presidents | which president is it? |\n",
    "| Dutch text | English text |\n",
    "| audio files | text |\n",
    "|  ... | ... |         \n",
    "\n",
    " \n",
    " \n",
    "Types of neural networks: \n",
    "\n",
    "- Standard neural networks\n",
    "- Convolutional neural networks (input = images, video)\n",
    "- Recurrent neural networks (input = audio files, text, time series data)\n",
    "- Generative adversarial networks"
   ]
  },
  {
   "cell_type": "markdown",
   "metadata": {
    "id": "WiogYZ1rBKfG"
   },
   "source": [
    "## An introductory example"
   ]
  },
  {
   "cell_type": "markdown",
   "metadata": {
    "id": "h4zMbc9wBKfG"
   },
   "source": [
    "### Problem statement and matrix representation"
   ]
  },
  {
   "cell_type": "markdown",
   "metadata": {
    "id": "CVcsQL7ABKfH"
   },
   "source": [
    "![title](https://drive.google.com/uc?export=view&id=1lPzz5KzZwd6tbwI_jmx9MGOx3LwQUHJd)"
   ]
  },
  {
   "cell_type": "markdown",
   "metadata": {
    "id": "GkkcMHqaBKfH"
   },
   "source": [
    "You'll see that there is quite a bit of theory and mathematical notation needed when using neural networks. We'll introduce all this for the first time by using an example.\n",
    "Imagine we have a dataset with images. Some of them have Santa in it, others don't. We'll use a neural network to train the model so it can detect whether Santa is in a picture or not.\n",
    "\n",
    "As mentioned before, this is a kind of problem where the input data is composed of images. Now how does Python read images? To store an image, your computer stores three matrices which correspond with three color channels: red, green, and blue (also referred to as RGB). The numbers in each of the three matrices correspond with the pixel intensity values in each of the three colors. The picture below denotes a hypothetical representation of a 4 x 4 pixel image (note that 4 x 4 is tiny, generally you'll have much bigger dimensions). Pixel intensity values are on the scale [0, 255]."
   ]
  },
  {
   "cell_type": "markdown",
   "metadata": {
    "id": "dLDj7XG2BKfH"
   },
   "source": [
    "![title](https://drive.google.com/uc?export=view&id=1rt5Y-IOnVhEvXgxE21OauK8B3ITlbVan)\n"
   ]
  },
  {
   "cell_type": "markdown",
   "metadata": {
    "id": "8mG4oqhDBKfH"
   },
   "source": [
    "Having three matrices associated with one image, we'll need to modify this shape to get to one input feature vector. You'll want to \"unrow\" your input feature values into one so-called \"feature vector\". You should start with unrowing the red pixel matrix, then the green one, then the blue one. Unrowing the RGB matrices in the image above would result in:"
   ]
  },
  {
   "cell_type": "markdown",
   "metadata": {
    "id": "L5ShDDa9BKfH"
   },
   "source": [
    " $x = \\begin{bmatrix} 35  \\\\ 19 \\\\  \\vdots \\\\ 9 \\\\7 \\\\\\vdots \\\\ 4 \\\\ 6 \\\\ \\vdots \\end{bmatrix}$"
   ]
  },
  {
   "cell_type": "markdown",
   "metadata": {
    "id": "u3Y2HncdBKfI"
   },
   "source": [
    "The resulting feature vector is a matrix with one column and 4 x 4 x 3 = 48 rows. Let's introduce some more notation to formalize this all.\n",
    "\n",
    "$(x, y)$ = a training sample, where $x \\in  \\mathbb{R}^n , y \\in \\{0,1\\}$. Note that $n$ is the number of inputs in the feature vector (48 in this example).\n",
    "\n",
    "Let's say you have one training sample. Your training set then looks like this: $\\{(x^{(1)},y^{(1)}), \\ldots, (x^{(l)},y^{(l)})\\}$ \n",
    "\n",
    "Similarly, let's say the test set has $m$ test samples.\n",
    "\n",
    "Note that the resulting matrix $x$ has dimensions ($n$ x $l%$), and looks like this:"
   ]
  },
  {
   "cell_type": "markdown",
   "metadata": {
    "id": "U1tH0XQjBKfI"
   },
   "source": [
    " $ \\hspace{1.1cm} x^{(1)} \\hspace{0.4cm} x^{(2)} \\hspace{1.4cm} x^{(l)} $\n",
    " \n",
    " $x $= $\\begin{bmatrix} 35 & 23 & \\cdots & 1\\\\ 19 & 88 &\\cdots & 230\\\\  \\vdots & \\vdots & \\ddots & \\vdots \\\\ 9 & 3 &\\cdots & 222 \\\\7 &166 &\\cdots  &43 \\\\ \\vdots & \\vdots & \\ddots & \\vdots  \\\\ 4 & 202 & \\cdots & 98 \\\\ 6 & 54 & \\cdots & 100 \\\\ \\vdots & \\vdots & \\ddots & \\vdots \\end{bmatrix}$"
   ]
  },
  {
   "cell_type": "markdown",
   "metadata": {
    "id": "nq11j_o5BKfI"
   },
   "source": [
    "The training set labels matrix has dimensions $(1$ x $ l)$, and would look something like this:"
   ]
  },
  {
   "cell_type": "markdown",
   "metadata": {
    "id": "e27hjL5lBKfI"
   },
   "source": [
    "$y $= $\\begin{bmatrix} 1 & 0 & \\cdots & 1 \\end{bmatrix}$"
   ]
  },
  {
   "cell_type": "markdown",
   "metadata": {
    "id": "jQGmbgxMBKfJ"
   },
   "source": [
    "where 1 means that the image contains a Santa, 0 means there is no Santa in the image.\n"
   ]
  },
  {
   "cell_type": "markdown",
   "metadata": {
    "id": "NWr7ztuAap0I"
   },
   "source": [
    "Before working on the assignment Please run through the below tutorial to play around with Pytorch and Neural Network\n",
    "\n",
    "* [Neural Network Tutorial](https://colab.research.google.com/drive/1t5twWABoVOqh2qIiMCh3CWbpTiJY4VS-?usp=sharing)\n",
    "\n",
    "* [Pytorch Tutorial](https://colab.research.google.com/drive/1ohhSO5KYXRyuTw4kLxGmS0Y1Uc6cCYbP?usp=sharing)"
   ]
  },
  {
   "cell_type": "markdown",
   "metadata": {
    "id": "gNVoTPMfc6Wn"
   },
   "source": [
    "#### **Objective:**\n",
    "To build a simple convolutional neural network in PyTorch and train it to recognize handwritten digits using the MNIST dataset\n",
    "\n",
    "## **Introduction**\n",
    "Classifying handwritten digits is a classic problem in the field of computer vision and has been used as a benchmark dataset for machine learning algorithms for decades. The [MNIST dataset](https://en.wikipedia.org/wiki/MNIST_database) is a commonly used dataset for this task, which consists of 70,000 grayscale images of handwritten digits, each with a resolution of 28x28 pixels. The task is to train a machine learning model that can accurately classify each image into its corresponding digit (0-9)."
   ]
  },
  {
   "cell_type": "markdown",
   "metadata": {
    "id": "D934sUTBdxz0"
   },
   "source": [
    "Notebook Outline:\n",
    "\n",
    "* Installing necessary packages\n",
    "* Importing necessary libraries and dataset\n",
    "* Data preprocessing\n",
    "* Defining the CNN architecture\n",
    "* Training the model\n",
    "* Testing the model\n",
    "* Conclusion\n",
    "\n",
    "**1. Installing necessary  packages**\n",
    "\n",
    "In this section, you will install any necessary packages and libraries needed to run the notebook. This includes installing PyTorch, which is a popular deep learning framework."
   ]
  },
  {
   "cell_type": "code",
   "execution_count": 1,
   "metadata": {
    "id": "nQrZna6SfdT_",
    "tags": []
   },
   "outputs": [
    {
     "name": "stdout",
     "output_type": "stream",
     "text": [
      "Defaulting to user installation because normal site-packages is not writeable\n",
      "Requirement already satisfied: torch in /usr/local/lib/python3.8/dist-packages (1.13.1)\n",
      "Requirement already satisfied: torchvision in /home/j2csummit/.local/lib/python3.8/site-packages (0.14.1)\n",
      "Requirement already satisfied: nvidia-cudnn-cu11==8.5.0.96 in /home/j2csummit/.local/lib/python3.8/site-packages (from torch) (8.5.0.96)\n",
      "Requirement already satisfied: nvidia-cublas-cu11==11.10.3.66 in /home/j2csummit/.local/lib/python3.8/site-packages (from torch) (11.10.3.66)\n",
      "Requirement already satisfied: nvidia-cuda-nvrtc-cu11==11.7.99 in /home/j2csummit/.local/lib/python3.8/site-packages (from torch) (11.7.99)\n",
      "Requirement already satisfied: nvidia-cuda-runtime-cu11==11.7.99 in /home/j2csummit/.local/lib/python3.8/site-packages (from torch) (11.7.99)\n",
      "Requirement already satisfied: typing-extensions in /home/j2csummit/.local/lib/python3.8/site-packages (from torch) (4.5.0)\n",
      "Requirement already satisfied: setuptools in /usr/lib/python3/dist-packages (from nvidia-cublas-cu11==11.10.3.66->torch) (45.2.0)\n",
      "Requirement already satisfied: wheel in /usr/lib/python3/dist-packages (from nvidia-cublas-cu11==11.10.3.66->torch) (0.34.2)\n",
      "Requirement already satisfied: pillow!=8.3.*,>=5.3.0 in /usr/lib/python3/dist-packages (from torchvision) (7.0.0)\n",
      "Requirement already satisfied: numpy in /home/j2csummit/.local/lib/python3.8/site-packages (from torchvision) (1.24.2)\n",
      "Requirement already satisfied: requests in /usr/local/lib/python3.8/dist-packages (from torchvision) (2.28.2)\n",
      "Requirement already satisfied: urllib3<1.27,>=1.21.1 in /usr/lib/python3/dist-packages (from requests->torchvision) (1.25.8)\n",
      "Requirement already satisfied: idna<4,>=2.5 in /usr/lib/python3/dist-packages (from requests->torchvision) (2.8)\n",
      "Requirement already satisfied: charset-normalizer<4,>=2 in /usr/local/lib/python3.8/dist-packages (from requests->torchvision) (3.0.1)\n",
      "Requirement already satisfied: certifi>=2017.4.17 in /usr/lib/python3/dist-packages (from requests->torchvision) (2019.11.28)\n"
     ]
    }
   ],
   "source": [
    "!pip install torch torchvision"
   ]
  },
  {
   "cell_type": "markdown",
   "metadata": {
    "id": "255h8jJcfntV"
   },
   "source": [
    "**2. Importing  necessary  libraries  and  dataset**\n",
    "\n",
    "In this section, you will import the necessary libraries and modules for building and training the model. This includes importing the MNIST dataset from PyTorch's built-in datasets module."
   ]
  },
  {
   "cell_type": "code",
   "execution_count": 2,
   "metadata": {
    "id": "4fic8LBRdvcg",
    "tags": []
   },
   "outputs": [
    {
     "data": {
      "text/plain": [
       "device(type='cpu')"
      ]
     },
     "execution_count": 2,
     "metadata": {},
     "output_type": "execute_result"
    }
   ],
   "source": [
    "# Importing torch and torchvision\n",
    "import torch\n",
    "import torchvision\n",
    "import torch.nn as nn\n",
    "import torch.nn.functional as F\n",
    "import torch.optim as optim\n",
    "\n",
    "# Device configuration\n",
    "device = torch.device('cuda' if torch.cuda.is_available() else 'cpu')\n",
    "device"
   ]
  },
  {
   "cell_type": "code",
   "execution_count": 3,
   "metadata": {
    "id": "5RLzngCFgoJB",
    "tags": []
   },
   "outputs": [
    {
     "data": {
      "text/plain": [
       "<torch._C.Generator at 0x7fa9f407cb70>"
      ]
     },
     "execution_count": 3,
     "metadata": {},
     "output_type": "execute_result"
    }
   ],
   "source": [
    "# Hyperparameters\n",
    "\n",
    "n_epochs = 3 # Number of Epochs\n",
    "batch_size_train = 64 # Training Batch Size\n",
    "batch_size_test = 1000 # Testing Batch Size\n",
    "learning_rate = 0.01 # Learning Rate for Gradient Descent ( Hyperparameter )\n",
    "momentum = 0.5\n",
    "log_interval = 10\n",
    "\n",
    "random_seed = 1 \n",
    "torch.backends.cudnn.enabled = False\n",
    "torch.manual_seed(random_seed)"
   ]
  },
  {
   "cell_type": "markdown",
   "metadata": {
    "id": "BsgNdJStgYYr"
   },
   "source": [
    "**3. Data preprocessing**\n",
    "\n",
    "In this section, you will preprocess the data by converting the images to PyTorch tensors, normalizing the pixel values, and splitting the dataset into training and testing sets."
   ]
  },
  {
   "cell_type": "code",
   "execution_count": 4,
   "metadata": {
    "id": "5s4e_oGmgErf",
    "tags": []
   },
   "outputs": [],
   "source": [
    "train_loader = torch.utils.data.DataLoader(\n",
    "  torchvision.datasets.MNIST('/files/', train=True, download=True,\n",
    "                             transform=torchvision.transforms.Compose([\n",
    "                               torchvision.transforms.ToTensor(),\n",
    "                               torchvision.transforms.Normalize(\n",
    "                                 (0.1307,), (0.3081,))\n",
    "                             ])),\n",
    "  batch_size=batch_size_train, shuffle=True)\n",
    "\n",
    "test_loader = torch.utils.data.DataLoader(\n",
    "  torchvision.datasets.MNIST('/files/', train=False, download=True,\n",
    "                             transform=torchvision.transforms.Compose([\n",
    "                               torchvision.transforms.ToTensor(),\n",
    "                               torchvision.transforms.Normalize(\n",
    "                                 (0.1307,), (0.3081,))\n",
    "                             ])),\n",
    "  batch_size=batch_size_test, shuffle=True)"
   ]
  },
  {
   "cell_type": "code",
   "execution_count": 5,
   "metadata": {
    "id": "Ac4u4eKzhjBh",
    "tags": []
   },
   "outputs": [],
   "source": [
    "# Lets look into test_loader Dataloader\n",
    "examples = enumerate(test_loader)\n",
    "batch_idx, (example_data, example_targets) = next(examples)"
   ]
  },
  {
   "cell_type": "code",
   "execution_count": 6,
   "metadata": {
    "id": "LVojspFLgbvQ",
    "tags": []
   },
   "outputs": [
    {
     "data": {
      "text/plain": [
       "torch.Size([1000, 1, 28, 28])"
      ]
     },
     "execution_count": 6,
     "metadata": {},
     "output_type": "execute_result"
    }
   ],
   "source": [
    "# let's see what one test data batch consists of.\n",
    "example_data.shape"
   ]
  },
  {
   "cell_type": "markdown",
   "metadata": {
    "id": "VmtnekvMii_T"
   },
   "source": [
    "So one test data batch is a  tensor of shape[1000,1,28,28]: \n",
    "\n",
    "This means we have 1000 examples of 28x28 pixels in grayscale (i.e. no rgb channels, hence the one)."
   ]
  },
  {
   "cell_type": "code",
   "execution_count": 7,
   "metadata": {
    "id": "qhVVtkBRih4u",
    "tags": []
   },
   "outputs": [
    {
     "data": {
      "image/png": "[encoded data removed]",
      "text/plain": [
       "<Figure size 640x480 with 6 Axes>"
      ]
     },
     "execution_count": 7,
     "metadata": {},
     "output_type": "execute_result"
    },
    {
     "data": {
      "image/png": "[encoded data removed]",
      "text/plain": [
       "<Figure size 640x480 with 6 Axes>"
      ]
     },
     "metadata": {},
     "output_type": "display_data"
    }
   ],
   "source": [
    "# plot some of them using matplotlib\n",
    "import matplotlib.pyplot as plt\n",
    "\n",
    "fig = plt.figure()\n",
    "for i in range(6):\n",
    "  plt.subplot(2,3,i+1)\n",
    "  plt.tight_layout()\n",
    "  plt.imshow(example_data[i][0], cmap='gray', interpolation='none')\n",
    "  plt.title(\"Ground Truth: {}\".format(example_targets[i]))\n",
    "  plt.xticks([])\n",
    "  plt.yticks([])\n",
    "fig"
   ]
  },
  {
   "cell_type": "markdown",
   "metadata": {
    "id": "cSji9Dpaj_3V"
   },
   "source": [
    "**4. Defining the CNN architecture**\n",
    " \n",
    "In this section, you will define the architecture of the convolutional neural network (CNN) used for classification. This includes defining the number and type of layers, activation functions, and pooling layers used. \n",
    "\n",
    "Broadly speaking we can think of the torch.nn layers as which contain trainable parameters while torch.nn.functional are purely functional. The forward() pass defines the way we compute our output using the given layers and functions.\n",
    "\n",
    "The Net class is a subclass of nn.Module and defines the layers of the CNN. \n",
    "\n",
    "The constructor (__init__) method initializes each layer of the CNN, including the convolutional layers, pooling layers, and linear layers. The forward method defines the forward pass through the network, which consists of applying the convolutional and pooling layers to the input image, flattening the output, and passing it through the linear layers."
   ]
  },
  {
   "cell_type": "markdown",
   "metadata": {
    "id": "r56IzItUtsbE"
   },
   "source": [
    "\n",
    "Implement a PyTorch model that takes a 28x28 grayscale image tensor as input and outputs a log probability distribution over 10 classes (corresponding to the digits 0-9). Your model should have the following layers:\n",
    "\n",
    "* A 2D convolutional layer with 10 output channels, a 5x5 kernel size, and ReLU activation.\n",
    "* A 2D max pooling layer with a 2x2 kernel size.\n",
    "* Another 2D convolutional layer with 20 output channels, a 5x5 kernel size, and ReLU activation.\n",
    "* A 2D dropout layer with a probability of dropout set to 0.* 5.\n",
    "A fully connected layer with 50 output units and ReLU activation.\n",
    "* Another fully connected layer with 10 output units (one for each class) and log softmax activation.\n",
    "\n",
    " Your implementation should use the nn.Module class and define the layers in the init function, and implement the forward pass through the layers in the forward function.\"\n"
   ]
  },
  {
   "cell_type": "code",
   "execution_count": 8,
   "metadata": {
    "id": "41-eZs_ekjNz",
    "tags": []
   },
   "outputs": [],
   "source": [
    "class Net(nn.Module):\n",
    "    def __init__(self):\n",
    "        super(Net, self).__init__()\n",
    "        self.conv1 = nn.Conv2d(1, 10, kernel_size=5)\n",
    "        self.conv2 = nn.Conv2d(10, 20, kernel_size=5)\n",
    "        self.conv2_drop = nn.Dropout2d()\n",
    "        self.fc1 = nn.Linear(320, 50)\n",
    "        self.fc2 = nn.Linear(50, 10)\n",
    "\n",
    "    def forward(self, x):\n",
    "        x = F.relu(F.max_pool2d(self.conv1(x), 2))\n",
    "        x = F.relu(F.max_pool2d(self.conv2_drop(self.conv2(x)), 2))\n",
    "        x = x.view(-1, 320)\n",
    "        x = F.relu(self.fc1(x))\n",
    "        x = F.dropout(x, training=self.training)\n",
    "        x = self.fc2(x)\n",
    "        return F.log_softmax(x)"
   ]
  },
  {
   "cell_type": "markdown",
   "metadata": {
    "id": "7mvdYEVQmqLW"
   },
   "source": [
    "The *optim.SGD()* function is a stochastic gradient descent optimizer that updates the parameters of the CNN based on the gradients of the loss function with respect to those parameters. We pass net.parameters() to the optimizer to tell it to optimize the parameters of the net model. We also specify a learning rate (lr) of 0.01 and a momentum (momentum) of 0.5, which are commonly used hyperparameters for training CNNs."
   ]
  },
  {
   "cell_type": "code",
   "execution_count": 9,
   "metadata": {
    "id": "4RPYdi0TlInD",
    "tags": []
   },
   "outputs": [
    {
     "data": {
      "text/plain": [
       "Net(\n",
       "  (conv1): Conv2d(1, 10, kernel_size=(5, 5), stride=(1, 1))\n",
       "  (conv2): Conv2d(10, 20, kernel_size=(5, 5), stride=(1, 1))\n",
       "  (conv2_drop): Dropout2d(p=0.5, inplace=False)\n",
       "  (fc1): Linear(in_features=320, out_features=50, bias=True)\n",
       "  (fc2): Linear(in_features=50, out_features=10, bias=True)\n",
       ")"
      ]
     },
     "execution_count": 9,
     "metadata": {},
     "output_type": "execute_result"
    }
   ],
   "source": [
    "# Initialize the Network\n",
    "network = Net()\n",
    "optimizer = optim.SGD(network.parameters(), lr=learning_rate,\n",
    "                      momentum=momentum)\n",
    "# Print out the model \n",
    "network\n"
   ]
  },
  {
   "cell_type": "markdown",
   "metadata": {
    "id": "IXFyAeU3lv55"
   },
   "source": [
    "**5. Training the model**\n",
    "\n",
    "In this section, you will train the CNN using the training data. This includes defining the loss function and optimization algorithm, setting the hyperparameters of the model, and iterating through the training data to update the weights of the model.\n",
    "\n",
    "Time to build our training loop. First we want to make sure our network is in training mode. Then we iterate over all training data once per epoch. Loading the individual batches is handled by the DataLoader. First we need to manually set the gradients to zero using optimizer.zero_grad() since PyTorch by default accumulates gradients. We then produce the output of our network (forward pass) and compute a negative log-likelihodd loss between the output and the ground truth label. The backward() call we now collect a new set of gradients which we propagate back into each of the network's parameters using optimizer.step(). For more detailed information about the inner workings of PyTorch's automatic gradient system, see the [official docs](https://pytorch.org/docs/stable/notes/autograd.html#) for autograd (highly recommended)."
   ]
  },
  {
   "cell_type": "code",
   "execution_count": 10,
   "metadata": {
    "id": "WXyXB8_mmILS",
    "tags": []
   },
   "outputs": [],
   "source": [
    "# Logging to save the losses later for plotting \n",
    "train_losses = []\n",
    "train_counter = []\n",
    "test_losses = []\n",
    "test_counter = [i*len(train_loader.dataset) for i in range(n_epochs + 1)]"
   ]
  },
  {
   "cell_type": "markdown",
   "metadata": {
    "id": "DFKKHOURniaz"
   },
   "source": [
    "We'll run our test loop once before even starting the training to see what accuracy/loss we achieve just with randomly initialized network parameters. Can you guess what our accuracy might look like for this case?\n",
    "\n",
    "\n",
    "**Note: Make sure you create a results directory in the Files section which you can find in the left side of the colab**"
   ]
  },
  {
   "cell_type": "code",
   "execution_count": 11,
   "metadata": {
    "id": "aFy2O64tnfwh",
    "tags": []
   },
   "outputs": [],
   "source": [
    "def train(epoch):\n",
    "  network.train()\n",
    "  for batch_idx, (data, target) in enumerate(train_loader):\n",
    "    optimizer.zero_grad()\n",
    "    output = network(data)\n",
    "    loss = F.nll_loss(output, target)\n",
    "    loss.backward()\n",
    "    optimizer.step()\n",
    "    if batch_idx % log_interval == 0:\n",
    "      print('Train Epoch: {} [{}/{} ({:.0f}%)]\\tLoss: {:.6f}'.format(\n",
    "        epoch, batch_idx * len(data), len(train_loader.dataset),\n",
    "        100. * batch_idx / len(train_loader), loss.item()))\n",
    "      train_losses.append(loss.item())\n",
    "      train_counter.append(\n",
    "        (batch_idx*64) + ((epoch-1)*len(train_loader.dataset)))\n",
    "      torch.save(network.state_dict(), 'model.pth')\n",
    "      torch.save(optimizer.state_dict(), 'optimizer.pth')"
   ]
  },
  {
   "cell_type": "markdown",
   "metadata": {
    "id": "Ko5XM6ConzhF"
   },
   "source": [
    "**6. Testing the model**\n",
    "\n",
    "In this section, you will test the performance of the trained model on the testing dataset. This includes calculating the accuracy and other performance metrics, as well as generating a confusion matrix to visualize the model's performance.\n",
    "\n",
    "\n",
    "\"Implement a PyTorch test function that evaluates the performance of a neural network model on a test dataset using cross-entropy loss and accuracy metrics. Your function should take as input a PyTorch model (network), a test data loader (test_loader), and two empty lists (test_losses and test_accs) to store the test losses and accuracies over time.\n",
    "\n",
    "Inside your test function, you should:\n",
    "\n",
    "* Put the model into evaluation mode by calling network.eval().\n",
    "* Initialize the test_loss and correct variables to zero.\n",
    "* Disable gradient computations by wrapping the test loop with torch.no_grad().\n",
    "* Loop over the test data using the test_loader, and for each batch:\n",
    "  - a. Pass \n",
    "the batch of input data (data) through the model (network) to get the output logits (output).\n",
    "  - b. Calculate the cross-entropy loss between the output logits and the target labels (target) using F.nll_loss.\n",
    "  - c. Add the batch loss to the test_loss variable.\n",
    "  - d. Compute the predicted labels (pred) by taking the argmax of the output logits along the class dimension.\n",
    "  - e. Update the correct variable by adding the number of correct predictions in the batch (i.e. where pred equals target).\n",
    "* Calculate the average test loss by dividing the test_loss variable by the total number of test samples.\n",
    "* Append the average test loss to the test_losses list.\n",
    "* Calculate the test accuracy as the percentage of correct predictions over the total number of test samples.\n",
    "* Append the test accuracy to the test_accs list.\n",
    "* Print the test set loss and accuracy using the formatted string '\\nTest set: Avg. loss: {:.4f}, Accuracy: {}/{} ({:.0f}%)\\n'.format(test_loss, correct, len(test_loader.dataset), 100. * correct / len(test_loader.dataset)).\n",
    "\n",
    "Your implementation should closely follow this template and use PyTorch functions as appropriate.\""
   ]
  },
  {
   "cell_type": "code",
   "execution_count": 14,
   "metadata": {
    "id": "VTSa96xXn0Q_",
    "tags": []
   },
   "outputs": [],
   "source": [
    "def test():\n",
    "  network.eval()\n",
    "  test_loss = 0\n",
    "  correct = 0\n",
    "  with torch.no_grad():\n",
    "    for data, target in test_loader:\n",
    "      output = network(data)\n",
    "      test_loss += F.nll_loss(output, target, size_average=False).item()\n",
    "      pred = output.data.max(1, keepdim=True)[1]\n",
    "      correct += pred.eq(target.data.view_as(pred)).sum()\n",
    "  test_loss /= len(test_loader.dataset)\n",
    "  test_losses.append(test_loss)\n",
    "  print('\\nTest set: Avg. loss: {:.4f}, Accuracy: {}/{} ({:.0f}%)\\n'.format(\n",
    "    test_loss, correct, len(test_loader.dataset),\n",
    "    100. * correct / len(test_loader.dataset)))  "
   ]
  },
  {
   "cell_type": "code",
   "execution_count": 15,
   "metadata": {
    "id": "o32vW8lkoNCr",
    "tags": []
   },
   "outputs": [
    {
     "name": "stderr",
     "output_type": "stream",
     "text": [
      "/tmp/ipykernel_13907/161431047.py:17: UserWarning: Implicit dimension choice for log_softmax has been deprecated. Change the call to include dim=X as an argument.\n",
      "  return F.log_softmax(x)\n",
      "/usr/local/lib/python3.8/dist-packages/torch/nn/_reduction.py:42: UserWarning: size_average and reduce args will be deprecated, please use reduction='sum' instead.\n",
      "  warnings.warn(warning.format(ret))\n"
     ]
    },
    {
     "name": "stdout",
     "output_type": "stream",
     "text": [
      "\n",
      "Test set: Avg. loss: 2.3096, Accuracy: 924/10000 (9%)\n",
      "\n",
      "Train Epoch: 1 [0/60000 (0%)]\tLoss: 2.313179\n",
      "Train Epoch: 1 [640/60000 (1%)]\tLoss: 2.300776\n",
      "Train Epoch: 1 [1280/60000 (2%)]\tLoss: 2.298872\n",
      "Train Epoch: 1 [1920/60000 (3%)]\tLoss: 2.276723\n",
      "Train Epoch: 1 [2560/60000 (4%)]\tLoss: 2.241102\n",
      "Train Epoch: 1 [3200/60000 (5%)]\tLoss: 2.248662\n",
      "Train Epoch: 1 [3840/60000 (6%)]\tLoss: 2.189547\n",
      "Train Epoch: 1 [4480/60000 (7%)]\tLoss: 2.146399\n",
      "Train Epoch: 1 [5120/60000 (9%)]\tLoss: 2.107701\n",
      "Train Epoch: 1 [5760/60000 (10%)]\tLoss: 2.011356\n",
      "Train Epoch: 1 [6400/60000 (11%)]\tLoss: 1.843857\n",
      "Train Epoch: 1 [7040/60000 (12%)]\tLoss: 1.758839\n",
      "Train Epoch: 1 [7680/60000 (13%)]\tLoss: 1.672644\n",
      "Train Epoch: 1 [8320/60000 (14%)]\tLoss: 1.687645\n",
      "Train Epoch: 1 [8960/60000 (15%)]\tLoss: 1.426628\n",
      "Train Epoch: 1 [9600/60000 (16%)]\tLoss: 1.284204\n",
      "Train Epoch: 1 [10240/60000 (17%)]\tLoss: 1.318824\n",
      "Train Epoch: 1 [10880/60000 (18%)]\tLoss: 1.445287\n",
      "Train Epoch: 1 [11520/60000 (19%)]\tLoss: 1.140686\n",
      "Train Epoch: 1 [12160/60000 (20%)]\tLoss: 1.152914\n",
      "Train Epoch: 1 [12800/60000 (21%)]\tLoss: 1.054201\n",
      "Train Epoch: 1 [13440/60000 (22%)]\tLoss: 0.900051\n",
      "Train Epoch: 1 [14080/60000 (23%)]\tLoss: 1.192117\n",
      "Train Epoch: 1 [14720/60000 (25%)]\tLoss: 0.944671\n",
      "Train Epoch: 1 [15360/60000 (26%)]\tLoss: 0.883143\n",
      "Train Epoch: 1 [16000/60000 (27%)]\tLoss: 0.846327\n",
      "Train Epoch: 1 [16640/60000 (28%)]\tLoss: 0.773429\n",
      "Train Epoch: 1 [17280/60000 (29%)]\tLoss: 0.760332\n",
      "Train Epoch: 1 [17920/60000 (30%)]\tLoss: 0.813500\n",
      "Train Epoch: 1 [18560/60000 (31%)]\tLoss: 0.890023\n",
      "Train Epoch: 1 [19200/60000 (32%)]\tLoss: 0.797666\n",
      "Train Epoch: 1 [19840/60000 (33%)]\tLoss: 0.903690\n",
      "Train Epoch: 1 [20480/60000 (34%)]\tLoss: 0.582573\n",
      "Train Epoch: 1 [21120/60000 (35%)]\tLoss: 0.689915\n",
      "Train Epoch: 1 [21760/60000 (36%)]\tLoss: 0.625811\n",
      "Train Epoch: 1 [22400/60000 (37%)]\tLoss: 0.770786\n",
      "Train Epoch: 1 [23040/60000 (38%)]\tLoss: 0.730335\n",
      "Train Epoch: 1 [23680/60000 (39%)]\tLoss: 0.636302\n",
      "Train Epoch: 1 [24320/60000 (41%)]\tLoss: 0.662824\n",
      "Train Epoch: 1 [24960/60000 (42%)]\tLoss: 0.831556\n",
      "Train Epoch: 1 [25600/60000 (43%)]\tLoss: 0.855463\n",
      "Train Epoch: 1 [26240/60000 (44%)]\tLoss: 0.622609\n",
      "Train Epoch: 1 [26880/60000 (45%)]\tLoss: 0.622195\n",
      "Train Epoch: 1 [27520/60000 (46%)]\tLoss: 0.684112\n",
      "Train Epoch: 1 [28160/60000 (47%)]\tLoss: 0.591477\n",
      "Train Epoch: 1 [28800/60000 (48%)]\tLoss: 0.548008\n",
      "Train Epoch: 1 [29440/60000 (49%)]\tLoss: 0.817349\n",
      "Train Epoch: 1 [30080/60000 (50%)]\tLoss: 0.740777\n",
      "Train Epoch: 1 [30720/60000 (51%)]\tLoss: 0.629409\n",
      "Train Epoch: 1 [31360/60000 (52%)]\tLoss: 0.647893\n",
      "Train Epoch: 1 [32000/60000 (53%)]\tLoss: 0.718166\n",
      "Train Epoch: 1 [32640/60000 (54%)]\tLoss: 0.442519\n",
      "Train Epoch: 1 [33280/60000 (55%)]\tLoss: 0.588815\n",
      "Train Epoch: 1 [33920/60000 (57%)]\tLoss: 0.574275\n",
      "Train Epoch: 1 [34560/60000 (58%)]\tLoss: 0.662196\n",
      "Train Epoch: 1 [35200/60000 (59%)]\tLoss: 0.580777\n",
      "Train Epoch: 1 [35840/60000 (60%)]\tLoss: 0.553067\n",
      "Train Epoch: 1 [36480/60000 (61%)]\tLoss: 0.629271\n",
      "Train Epoch: 1 [37120/60000 (62%)]\tLoss: 0.809432\n",
      "Train Epoch: 1 [37760/60000 (63%)]\tLoss: 0.570094\n",
      "Train Epoch: 1 [38400/60000 (64%)]\tLoss: 0.634351\n",
      "Train Epoch: 1 [39040/60000 (65%)]\tLoss: 0.536297\n",
      "Train Epoch: 1 [39680/60000 (66%)]\tLoss: 0.611505\n",
      "Train Epoch: 1 [40320/60000 (67%)]\tLoss: 0.319130\n",
      "Train Epoch: 1 [40960/60000 (68%)]\tLoss: 0.338970\n",
      "Train Epoch: 1 [41600/60000 (69%)]\tLoss: 0.378129\n",
      "Train Epoch: 1 [42240/60000 (70%)]\tLoss: 0.302535\n",
      "Train Epoch: 1 [42880/60000 (71%)]\tLoss: 0.399301\n",
      "Train Epoch: 1 [43520/60000 (72%)]\tLoss: 0.437052\n",
      "Train Epoch: 1 [44160/60000 (74%)]\tLoss: 0.458947\n",
      "Train Epoch: 1 [44800/60000 (75%)]\tLoss: 0.613737\n",
      "Train Epoch: 1 [45440/60000 (76%)]\tLoss: 0.534722\n",
      "Train Epoch: 1 [46080/60000 (77%)]\tLoss: 0.509242\n",
      "Train Epoch: 1 [46720/60000 (78%)]\tLoss: 0.378558\n",
      "Train Epoch: 1 [47360/60000 (79%)]\tLoss: 0.492417\n",
      "Train Epoch: 1 [48000/60000 (80%)]\tLoss: 0.551983\n",
      "Train Epoch: 1 [48640/60000 (81%)]\tLoss: 0.412009\n",
      "Train Epoch: 1 [49280/60000 (82%)]\tLoss: 0.389070\n",
      "Train Epoch: 1 [49920/60000 (83%)]\tLoss: 0.528053\n",
      "Train Epoch: 1 [50560/60000 (84%)]\tLoss: 0.440512\n",
      "Train Epoch: 1 [51200/60000 (85%)]\tLoss: 0.696011\n",
      "Train Epoch: 1 [51840/60000 (86%)]\tLoss: 0.502771\n",
      "Train Epoch: 1 [52480/60000 (87%)]\tLoss: 0.679807\n",
      "Train Epoch: 1 [53120/60000 (88%)]\tLoss: 0.531431\n",
      "Train Epoch: 1 [53760/60000 (90%)]\tLoss: 0.546956\n",
      "Train Epoch: 1 [54400/60000 (91%)]\tLoss: 0.633731\n",
      "Train Epoch: 1 [55040/60000 (92%)]\tLoss: 0.447141\n",
      "Train Epoch: 1 [55680/60000 (93%)]\tLoss: 0.547967\n",
      "Train Epoch: 1 [56320/60000 (94%)]\tLoss: 0.551379\n",
      "Train Epoch: 1 [56960/60000 (95%)]\tLoss: 0.365579\n",
      "Train Epoch: 1 [57600/60000 (96%)]\tLoss: 0.313583\n",
      "Train Epoch: 1 [58240/60000 (97%)]\tLoss: 0.300417\n",
      "Train Epoch: 1 [58880/60000 (98%)]\tLoss: 0.718806\n",
      "Train Epoch: 1 [59520/60000 (99%)]\tLoss: 0.387260\n",
      "\n",
      "Test set: Avg. loss: 0.1872, Accuracy: 9435/10000 (94%)\n",
      "\n",
      "Train Epoch: 2 [0/60000 (0%)]\tLoss: 0.449244\n",
      "Train Epoch: 2 [640/60000 (1%)]\tLoss: 0.444212\n",
      "Train Epoch: 2 [1280/60000 (2%)]\tLoss: 0.491599\n",
      "Train Epoch: 2 [1920/60000 (3%)]\tLoss: 0.515059\n",
      "Train Epoch: 2 [2560/60000 (4%)]\tLoss: 0.304643\n",
      "Train Epoch: 2 [3200/60000 (5%)]\tLoss: 0.166800\n",
      "Train Epoch: 2 [3840/60000 (6%)]\tLoss: 0.480951\n",
      "Train Epoch: 2 [4480/60000 (7%)]\tLoss: 0.414759\n",
      "Train Epoch: 2 [5120/60000 (9%)]\tLoss: 0.395131\n",
      "Train Epoch: 2 [5760/60000 (10%)]\tLoss: 0.654588\n",
      "Train Epoch: 2 [6400/60000 (11%)]\tLoss: 0.573750\n",
      "Train Epoch: 2 [7040/60000 (12%)]\tLoss: 0.312308\n",
      "Train Epoch: 2 [7680/60000 (13%)]\tLoss: 0.444836\n",
      "Train Epoch: 2 [8320/60000 (14%)]\tLoss: 0.639111\n",
      "Train Epoch: 2 [8960/60000 (15%)]\tLoss: 0.484745\n",
      "Train Epoch: 2 [9600/60000 (16%)]\tLoss: 0.439721\n",
      "Train Epoch: 2 [10240/60000 (17%)]\tLoss: 0.312688\n",
      "Train Epoch: 2 [10880/60000 (18%)]\tLoss: 0.499947\n",
      "Train Epoch: 2 [11520/60000 (19%)]\tLoss: 0.321144\n",
      "Train Epoch: 2 [12160/60000 (20%)]\tLoss: 0.312037\n",
      "Train Epoch: 2 [12800/60000 (21%)]\tLoss: 0.479571\n",
      "Train Epoch: 2 [13440/60000 (22%)]\tLoss: 0.469539\n",
      "Train Epoch: 2 [14080/60000 (23%)]\tLoss: 0.494311\n",
      "Train Epoch: 2 [14720/60000 (25%)]\tLoss: 0.364412\n",
      "Train Epoch: 2 [15360/60000 (26%)]\tLoss: 0.207025\n",
      "Train Epoch: 2 [16000/60000 (27%)]\tLoss: 0.254130\n",
      "Train Epoch: 2 [16640/60000 (28%)]\tLoss: 0.368843\n",
      "Train Epoch: 2 [17280/60000 (29%)]\tLoss: 0.433103\n",
      "Train Epoch: 2 [17920/60000 (30%)]\tLoss: 0.331548\n",
      "Train Epoch: 2 [18560/60000 (31%)]\tLoss: 0.336154\n",
      "Train Epoch: 2 [19200/60000 (32%)]\tLoss: 0.498291\n",
      "Train Epoch: 2 [19840/60000 (33%)]\tLoss: 0.349457\n",
      "Train Epoch: 2 [20480/60000 (34%)]\tLoss: 0.366530\n",
      "Train Epoch: 2 [21120/60000 (35%)]\tLoss: 0.339399\n",
      "Train Epoch: 2 [21760/60000 (36%)]\tLoss: 0.497565\n",
      "Train Epoch: 2 [22400/60000 (37%)]\tLoss: 0.605870\n",
      "Train Epoch: 2 [23040/60000 (38%)]\tLoss: 0.499718\n",
      "Train Epoch: 2 [23680/60000 (39%)]\tLoss: 0.341220\n",
      "Train Epoch: 2 [24320/60000 (41%)]\tLoss: 0.404058\n",
      "Train Epoch: 2 [24960/60000 (42%)]\tLoss: 0.214006\n",
      "Train Epoch: 2 [25600/60000 (43%)]\tLoss: 0.204045\n",
      "Train Epoch: 2 [26240/60000 (44%)]\tLoss: 0.389825\n",
      "Train Epoch: 2 [26880/60000 (45%)]\tLoss: 0.297389\n",
      "Train Epoch: 2 [27520/60000 (46%)]\tLoss: 0.225796\n",
      "Train Epoch: 2 [28160/60000 (47%)]\tLoss: 0.178128\n",
      "Train Epoch: 2 [28800/60000 (48%)]\tLoss: 0.253455\n",
      "Train Epoch: 2 [29440/60000 (49%)]\tLoss: 0.524653\n",
      "Train Epoch: 2 [30080/60000 (50%)]\tLoss: 0.297527\n",
      "Train Epoch: 2 [30720/60000 (51%)]\tLoss: 0.309656\n",
      "Train Epoch: 2 [31360/60000 (52%)]\tLoss: 0.425581\n",
      "Train Epoch: 2 [32000/60000 (53%)]\tLoss: 0.689159\n",
      "Train Epoch: 2 [32640/60000 (54%)]\tLoss: 0.307528\n",
      "Train Epoch: 2 [33280/60000 (55%)]\tLoss: 0.276764\n",
      "Train Epoch: 2 [33920/60000 (57%)]\tLoss: 0.434171\n",
      "Train Epoch: 2 [34560/60000 (58%)]\tLoss: 0.389109\n",
      "Train Epoch: 2 [35200/60000 (59%)]\tLoss: 0.437557\n",
      "Train Epoch: 2 [35840/60000 (60%)]\tLoss: 0.464300\n",
      "Train Epoch: 2 [36480/60000 (61%)]\tLoss: 0.347131\n",
      "Train Epoch: 2 [37120/60000 (62%)]\tLoss: 0.470832\n",
      "Train Epoch: 2 [37760/60000 (63%)]\tLoss: 0.443200\n",
      "Train Epoch: 2 [38400/60000 (64%)]\tLoss: 0.282523\n",
      "Train Epoch: 2 [39040/60000 (65%)]\tLoss: 0.197355\n",
      "Train Epoch: 2 [39680/60000 (66%)]\tLoss: 0.417063\n",
      "Train Epoch: 2 [40320/60000 (67%)]\tLoss: 0.205695\n",
      "Train Epoch: 2 [40960/60000 (68%)]\tLoss: 0.481688\n",
      "Train Epoch: 2 [41600/60000 (69%)]\tLoss: 0.141466\n",
      "Train Epoch: 2 [42240/60000 (70%)]\tLoss: 0.339468\n",
      "Train Epoch: 2 [42880/60000 (71%)]\tLoss: 0.485974\n",
      "Train Epoch: 2 [43520/60000 (72%)]\tLoss: 0.280410\n",
      "Train Epoch: 2 [44160/60000 (74%)]\tLoss: 0.396856\n",
      "Train Epoch: 2 [44800/60000 (75%)]\tLoss: 0.234849\n",
      "Train Epoch: 2 [45440/60000 (76%)]\tLoss: 0.504249\n",
      "Train Epoch: 2 [46080/60000 (77%)]\tLoss: 0.278375\n",
      "Train Epoch: 2 [46720/60000 (78%)]\tLoss: 0.276821\n",
      "Train Epoch: 2 [47360/60000 (79%)]\tLoss: 0.196858\n",
      "Train Epoch: 2 [48000/60000 (80%)]\tLoss: 0.251282\n",
      "Train Epoch: 2 [48640/60000 (81%)]\tLoss: 0.362146\n",
      "Train Epoch: 2 [49280/60000 (82%)]\tLoss: 0.455754\n",
      "Train Epoch: 2 [49920/60000 (83%)]\tLoss: 0.281544\n",
      "Train Epoch: 2 [50560/60000 (84%)]\tLoss: 0.329598\n",
      "Train Epoch: 2 [51200/60000 (85%)]\tLoss: 0.436753\n",
      "Train Epoch: 2 [51840/60000 (86%)]\tLoss: 0.315510\n",
      "Train Epoch: 2 [52480/60000 (87%)]\tLoss: 0.338160\n",
      "Train Epoch: 2 [53120/60000 (88%)]\tLoss: 0.252746\n",
      "Train Epoch: 2 [53760/60000 (90%)]\tLoss: 0.245138\n",
      "Train Epoch: 2 [54400/60000 (91%)]\tLoss: 0.193820\n",
      "Train Epoch: 2 [55040/60000 (92%)]\tLoss: 0.479482\n",
      "Train Epoch: 2 [55680/60000 (93%)]\tLoss: 0.195463\n",
      "Train Epoch: 2 [56320/60000 (94%)]\tLoss: 0.373199\n",
      "Train Epoch: 2 [56960/60000 (95%)]\tLoss: 0.220264\n",
      "Train Epoch: 2 [57600/60000 (96%)]\tLoss: 0.561178\n",
      "Train Epoch: 2 [58240/60000 (97%)]\tLoss: 0.495527\n",
      "Train Epoch: 2 [58880/60000 (98%)]\tLoss: 0.275719\n",
      "Train Epoch: 2 [59520/60000 (99%)]\tLoss: 0.289356\n",
      "\n",
      "Test set: Avg. loss: 0.1161, Accuracy: 9633/10000 (96%)\n",
      "\n",
      "Train Epoch: 3 [0/60000 (0%)]\tLoss: 0.205568\n",
      "Train Epoch: 3 [640/60000 (1%)]\tLoss: 0.254599\n",
      "Train Epoch: 3 [1280/60000 (2%)]\tLoss: 0.400484\n",
      "Train Epoch: 3 [1920/60000 (3%)]\tLoss: 0.246210\n",
      "Train Epoch: 3 [2560/60000 (4%)]\tLoss: 0.260689\n",
      "Train Epoch: 3 [3200/60000 (5%)]\tLoss: 0.315962\n",
      "Train Epoch: 3 [3840/60000 (6%)]\tLoss: 0.272664\n",
      "Train Epoch: 3 [4480/60000 (7%)]\tLoss: 0.482124\n",
      "Train Epoch: 3 [5120/60000 (9%)]\tLoss: 0.500656\n",
      "Train Epoch: 3 [5760/60000 (10%)]\tLoss: 0.400686\n",
      "Train Epoch: 3 [6400/60000 (11%)]\tLoss: 0.300493\n",
      "Train Epoch: 3 [7040/60000 (12%)]\tLoss: 0.343943\n",
      "Train Epoch: 3 [7680/60000 (13%)]\tLoss: 0.252043\n",
      "Train Epoch: 3 [8320/60000 (14%)]\tLoss: 0.160462\n",
      "Train Epoch: 3 [8960/60000 (15%)]\tLoss: 0.259659\n",
      "Train Epoch: 3 [9600/60000 (16%)]\tLoss: 0.233737\n",
      "Train Epoch: 3 [10240/60000 (17%)]\tLoss: 0.274628\n",
      "Train Epoch: 3 [10880/60000 (18%)]\tLoss: 0.288958\n",
      "Train Epoch: 3 [11520/60000 (19%)]\tLoss: 0.427719\n",
      "Train Epoch: 3 [12160/60000 (20%)]\tLoss: 0.214040\n",
      "Train Epoch: 3 [12800/60000 (21%)]\tLoss: 0.462474\n",
      "Train Epoch: 3 [13440/60000 (22%)]\tLoss: 0.344935\n",
      "Train Epoch: 3 [14080/60000 (23%)]\tLoss: 0.357108\n",
      "Train Epoch: 3 [14720/60000 (25%)]\tLoss: 0.309729\n",
      "Train Epoch: 3 [15360/60000 (26%)]\tLoss: 0.333369\n",
      "Train Epoch: 3 [16000/60000 (27%)]\tLoss: 0.809927\n",
      "Train Epoch: 3 [16640/60000 (28%)]\tLoss: 0.552132\n",
      "Train Epoch: 3 [17280/60000 (29%)]\tLoss: 0.444016\n",
      "Train Epoch: 3 [17920/60000 (30%)]\tLoss: 0.310095\n",
      "Train Epoch: 3 [18560/60000 (31%)]\tLoss: 0.319469\n",
      "Train Epoch: 3 [19200/60000 (32%)]\tLoss: 0.352047\n",
      "Train Epoch: 3 [19840/60000 (33%)]\tLoss: 0.365009\n",
      "Train Epoch: 3 [20480/60000 (34%)]\tLoss: 0.188943\n",
      "Train Epoch: 3 [21120/60000 (35%)]\tLoss: 0.173996\n",
      "Train Epoch: 3 [21760/60000 (36%)]\tLoss: 0.325020\n",
      "Train Epoch: 3 [22400/60000 (37%)]\tLoss: 0.238553\n",
      "Train Epoch: 3 [23040/60000 (38%)]\tLoss: 0.438504\n",
      "Train Epoch: 3 [23680/60000 (39%)]\tLoss: 0.205585\n",
      "Train Epoch: 3 [24320/60000 (41%)]\tLoss: 0.253944\n",
      "Train Epoch: 3 [24960/60000 (42%)]\tLoss: 0.185978\n",
      "Train Epoch: 3 [25600/60000 (43%)]\tLoss: 0.404688\n",
      "Train Epoch: 3 [26240/60000 (44%)]\tLoss: 0.198060\n",
      "Train Epoch: 3 [26880/60000 (45%)]\tLoss: 0.204721\n",
      "Train Epoch: 3 [27520/60000 (46%)]\tLoss: 0.190732\n",
      "Train Epoch: 3 [28160/60000 (47%)]\tLoss: 0.341551\n",
      "Train Epoch: 3 [28800/60000 (48%)]\tLoss: 0.466175\n",
      "Train Epoch: 3 [29440/60000 (49%)]\tLoss: 0.161995\n",
      "Train Epoch: 3 [30080/60000 (50%)]\tLoss: 0.280665\n",
      "Train Epoch: 3 [30720/60000 (51%)]\tLoss: 0.241120\n",
      "Train Epoch: 3 [31360/60000 (52%)]\tLoss: 0.216877\n",
      "Train Epoch: 3 [32000/60000 (53%)]\tLoss: 0.441176\n",
      "Train Epoch: 3 [32640/60000 (54%)]\tLoss: 0.346463\n",
      "Train Epoch: 3 [33280/60000 (55%)]\tLoss: 0.168730\n",
      "Train Epoch: 3 [33920/60000 (57%)]\tLoss: 0.450943\n",
      "Train Epoch: 3 [34560/60000 (58%)]\tLoss: 0.254993\n",
      "Train Epoch: 3 [35200/60000 (59%)]\tLoss: 0.320210\n",
      "Train Epoch: 3 [35840/60000 (60%)]\tLoss: 0.484462\n",
      "Train Epoch: 3 [36480/60000 (61%)]\tLoss: 0.183567\n",
      "Train Epoch: 3 [37120/60000 (62%)]\tLoss: 0.204240\n",
      "Train Epoch: 3 [37760/60000 (63%)]\tLoss: 0.316024\n",
      "Train Epoch: 3 [38400/60000 (64%)]\tLoss: 0.454631\n",
      "Train Epoch: 3 [39040/60000 (65%)]\tLoss: 0.362345\n",
      "Train Epoch: 3 [39680/60000 (66%)]\tLoss: 0.195358\n",
      "Train Epoch: 3 [40320/60000 (67%)]\tLoss: 0.262442\n",
      "Train Epoch: 3 [40960/60000 (68%)]\tLoss: 0.450085\n",
      "Train Epoch: 3 [41600/60000 (69%)]\tLoss: 0.321465\n",
      "Train Epoch: 3 [42240/60000 (70%)]\tLoss: 0.385865\n",
      "Train Epoch: 3 [42880/60000 (71%)]\tLoss: 0.182091\n",
      "Train Epoch: 3 [43520/60000 (72%)]\tLoss: 0.250686\n",
      "Train Epoch: 3 [44160/60000 (74%)]\tLoss: 0.295937\n",
      "Train Epoch: 3 [44800/60000 (75%)]\tLoss: 0.180547\n",
      "Train Epoch: 3 [45440/60000 (76%)]\tLoss: 0.240413\n",
      "Train Epoch: 3 [46080/60000 (77%)]\tLoss: 0.348165\n",
      "Train Epoch: 3 [46720/60000 (78%)]\tLoss: 0.191493\n",
      "Train Epoch: 3 [47360/60000 (79%)]\tLoss: 0.388106\n",
      "Train Epoch: 3 [48000/60000 (80%)]\tLoss: 0.318512\n",
      "Train Epoch: 3 [48640/60000 (81%)]\tLoss: 0.207216\n",
      "Train Epoch: 3 [49280/60000 (82%)]\tLoss: 0.216372\n",
      "Train Epoch: 3 [49920/60000 (83%)]\tLoss: 0.512309\n",
      "Train Epoch: 3 [50560/60000 (84%)]\tLoss: 0.401354\n",
      "Train Epoch: 3 [51200/60000 (85%)]\tLoss: 0.428214\n",
      "Train Epoch: 3 [51840/60000 (86%)]\tLoss: 0.242654\n",
      "Train Epoch: 3 [52480/60000 (87%)]\tLoss: 0.501639\n",
      "Train Epoch: 3 [53120/60000 (88%)]\tLoss: 0.217290\n",
      "Train Epoch: 3 [53760/60000 (90%)]\tLoss: 0.182573\n",
      "Train Epoch: 3 [54400/60000 (91%)]\tLoss: 0.394488\n",
      "Train Epoch: 3 [55040/60000 (92%)]\tLoss: 0.303136\n",
      "Train Epoch: 3 [55680/60000 (93%)]\tLoss: 0.175602\n",
      "Train Epoch: 3 [56320/60000 (94%)]\tLoss: 0.284096\n",
      "Train Epoch: 3 [56960/60000 (95%)]\tLoss: 0.345473\n",
      "Train Epoch: 3 [57600/60000 (96%)]\tLoss: 0.566412\n",
      "Train Epoch: 3 [58240/60000 (97%)]\tLoss: 0.359680\n",
      "Train Epoch: 3 [58880/60000 (98%)]\tLoss: 0.108057\n",
      "Train Epoch: 3 [59520/60000 (99%)]\tLoss: 0.328693\n",
      "\n",
      "Test set: Avg. loss: 0.0994, Accuracy: 9682/10000 (97%)\n",
      "\n"
     ]
    }
   ],
   "source": [
    "\"\"\" Time to run the training! We'll manually add a test() call before we \n",
    "    loop over n_epochs to evaluate our model with randomly initialized parameters.\"\"\"\n",
    "\n",
    "test()\n",
    "for epoch in range(1, n_epochs + 1):\n",
    "  train(epoch)\n",
    "  test()"
   ]
  },
  {
   "cell_type": "code",
   "execution_count": 16,
   "metadata": {
    "id": "80g20K0OvHFu",
    "tags": []
   },
   "outputs": [
    {
     "name": "stdout",
     "output_type": "stream",
     "text": [
      "4\n",
      "4\n"
     ]
    }
   ],
   "source": [
    "print(len(test_counter))\n",
    "print(len(test_losses))"
   ]
  },
  {
   "cell_type": "code",
   "execution_count": 17,
   "metadata": {
    "id": "uwcwHWKvpVWi",
    "tags": []
   },
   "outputs": [
    {
     "data": {
      "image/png": "[encoded data removed]",
      "text/plain": [
       "<Figure size 640x480 with 1 Axes>"
      ]
     },
     "execution_count": 17,
     "metadata": {},
     "output_type": "execute_result"
    },
    {
     "data": {
      "image/png": "[encoded data removed]",
      "text/plain": [
       "<Figure size 640x480 with 1 Axes>"
      ]
     },
     "metadata": {},
     "output_type": "display_data"
    }
   ],
   "source": [
    "# Evaluating the Model's Performance\n",
    "\n",
    "\"\"\" With just 3 epochs of training we already managed to \n",
    "achieve 97% accuracy on the test set! We started \n",
    "out with randomly initialized parameters and as \n",
    "expected only got about 10% accuracy on the test set before starting the training. \"\"\"\n",
    "\n",
    "# Let's plot our training curve.\n",
    "fig = plt.figure()\n",
    "plt.plot(train_counter, train_losses, color='blue')\n",
    "plt.scatter(test_counter, test_losses, color='red')\n",
    "plt.legend(['Train Loss', 'Test Loss'], loc='upper right')\n",
    "plt.xlabel('number of training examples seen')\n",
    "plt.ylabel('negative log likelihood loss')\n",
    "fig"
   ]
  },
  {
   "cell_type": "code",
   "execution_count": 18,
   "metadata": {
    "id": "hCX3Nth8pkXS",
    "tags": []
   },
   "outputs": [
    {
     "name": "stderr",
     "output_type": "stream",
     "text": [
      "/tmp/ipykernel_13907/161431047.py:17: UserWarning: Implicit dimension choice for log_softmax has been deprecated. Change the call to include dim=X as an argument.\n",
      "  return F.log_softmax(x)\n"
     ]
    }
   ],
   "source": [
    "with torch.no_grad():\n",
    "  output = network(example_data)"
   ]
  },
  {
   "cell_type": "code",
   "execution_count": 19,
   "metadata": {
    "id": "hO8G6lhVptQ1",
    "tags": []
   },
   "outputs": [
    {
     "data": {
      "image/png": "[encoded data removed]",
      "text/plain": [
       "<Figure size 640x480 with 6 Axes>"
      ]
     },
     "execution_count": 19,
     "metadata": {},
     "output_type": "execute_result"
    },
    {
     "data": {
      "image/png": "[encoded data removed]",
      "text/plain": [
       "<Figure size 640x480 with 6 Axes>"
      ]
     },
     "metadata": {},
     "output_type": "display_data"
    }
   ],
   "source": [
    "# Visualization of the Predicted Results\n",
    "fig = plt.figure()\n",
    "for i in range(6):\n",
    "  plt.subplot(2,3,i+1)\n",
    "  plt.tight_layout()\n",
    "  plt.imshow(example_data[i][0], cmap='gray', interpolation='none')\n",
    "  plt.title(\"Prediction: {}\".format(\n",
    "    output.data.max(1, keepdim=True)[1][i].item()))\n",
    "  plt.xticks([])\n",
    "  plt.yticks([])\n",
    "fig"
   ]
  },
  {
   "cell_type": "code",
   "execution_count": 20,
   "metadata": {
    "id": "Si-_w_gRp2Bw",
    "tags": []
   },
   "outputs": [],
   "source": [
    "# Continued Training from Checkpoints \n",
    "\n",
    "\"\"\" Now let's continue training the network, or rather see how we can continue training from the state_dicts we saved during \n",
    "our first training run. We'll initialize a new set of network and optimizers. \"\"\"\n",
    "\n",
    "continued_network = Net()\n",
    "continued_optimizer = optim.SGD(network.parameters(), lr=learning_rate,\n",
    "                                momentum=momentum)\n",
    "\n"
   ]
  },
  {
   "cell_type": "code",
   "execution_count": 21,
   "metadata": {
    "id": "8SfgO-XtqB7f",
    "tags": []
   },
   "outputs": [],
   "source": [
    "\"\"\" Using .load_state_dict() we can now load the internal state of the network and \n",
    "optimizer when we last saved them. \"\"\"\n",
    "\n",
    "network_state_dict = torch.load(\"model.pth\")\n",
    "continued_network.load_state_dict(network_state_dict)\n",
    "\n",
    "optimizer_state_dict = torch.load(\"optimizer.pth\")\n",
    "continued_optimizer.load_state_dict(optimizer_state_dict)"
   ]
  },
  {
   "cell_type": "code",
   "execution_count": 22,
   "metadata": {
    "id": "pkrpXIQfqLF8",
    "tags": []
   },
   "outputs": [
    {
     "name": "stderr",
     "output_type": "stream",
     "text": [
      "/tmp/ipykernel_13907/161431047.py:17: UserWarning: Implicit dimension choice for log_softmax has been deprecated. Change the call to include dim=X as an argument.\n",
      "  return F.log_softmax(x)\n"
     ]
    },
    {
     "name": "stdout",
     "output_type": "stream",
     "text": [
      "Train Epoch: 4 [0/60000 (0%)]\tLoss: 0.189311\n",
      "Train Epoch: 4 [640/60000 (1%)]\tLoss: 0.366426\n",
      "Train Epoch: 4 [1280/60000 (2%)]\tLoss: 0.356057\n",
      "Train Epoch: 4 [1920/60000 (3%)]\tLoss: 0.400004\n",
      "Train Epoch: 4 [2560/60000 (4%)]\tLoss: 0.508479\n",
      "Train Epoch: 4 [3200/60000 (5%)]\tLoss: 0.134980\n",
      "Train Epoch: 4 [3840/60000 (6%)]\tLoss: 0.272883\n",
      "Train Epoch: 4 [4480/60000 (7%)]\tLoss: 0.330658\n",
      "Train Epoch: 4 [5120/60000 (9%)]\tLoss: 0.164976\n",
      "Train Epoch: 4 [5760/60000 (10%)]\tLoss: 0.198512\n",
      "Train Epoch: 4 [6400/60000 (11%)]\tLoss: 0.167126\n",
      "Train Epoch: 4 [7040/60000 (12%)]\tLoss: 0.146805\n",
      "Train Epoch: 4 [7680/60000 (13%)]\tLoss: 0.221383\n",
      "Train Epoch: 4 [8320/60000 (14%)]\tLoss: 0.399237\n",
      "Train Epoch: 4 [8960/60000 (15%)]\tLoss: 0.450667\n",
      "Train Epoch: 4 [9600/60000 (16%)]\tLoss: 0.154932\n",
      "Train Epoch: 4 [10240/60000 (17%)]\tLoss: 0.161595\n",
      "Train Epoch: 4 [10880/60000 (18%)]\tLoss: 0.470807\n",
      "Train Epoch: 4 [11520/60000 (19%)]\tLoss: 0.154093\n",
      "Train Epoch: 4 [12160/60000 (20%)]\tLoss: 0.252178\n",
      "Train Epoch: 4 [12800/60000 (21%)]\tLoss: 0.314750\n",
      "Train Epoch: 4 [13440/60000 (22%)]\tLoss: 0.261505\n",
      "Train Epoch: 4 [14080/60000 (23%)]\tLoss: 0.308714\n",
      "Train Epoch: 4 [14720/60000 (25%)]\tLoss: 0.322146\n",
      "Train Epoch: 4 [15360/60000 (26%)]\tLoss: 0.120706\n",
      "Train Epoch: 4 [16000/60000 (27%)]\tLoss: 0.139934\n",
      "Train Epoch: 4 [16640/60000 (28%)]\tLoss: 0.190571\n",
      "Train Epoch: 4 [17280/60000 (29%)]\tLoss: 0.220681\n",
      "Train Epoch: 4 [17920/60000 (30%)]\tLoss: 0.384210\n",
      "Train Epoch: 4 [18560/60000 (31%)]\tLoss: 0.267672\n",
      "Train Epoch: 4 [19200/60000 (32%)]\tLoss: 0.329528\n",
      "Train Epoch: 4 [19840/60000 (33%)]\tLoss: 0.418475\n",
      "Train Epoch: 4 [20480/60000 (34%)]\tLoss: 0.218423\n",
      "Train Epoch: 4 [21120/60000 (35%)]\tLoss: 0.334976\n",
      "Train Epoch: 4 [21760/60000 (36%)]\tLoss: 0.058328\n",
      "Train Epoch: 4 [22400/60000 (37%)]\tLoss: 0.233957\n",
      "Train Epoch: 4 [23040/60000 (38%)]\tLoss: 0.308401\n",
      "Train Epoch: 4 [23680/60000 (39%)]\tLoss: 0.291382\n",
      "Train Epoch: 4 [24320/60000 (41%)]\tLoss: 0.164079\n",
      "Train Epoch: 4 [24960/60000 (42%)]\tLoss: 0.156072\n",
      "Train Epoch: 4 [25600/60000 (43%)]\tLoss: 0.384422\n",
      "Train Epoch: 4 [26240/60000 (44%)]\tLoss: 0.213023\n",
      "Train Epoch: 4 [26880/60000 (45%)]\tLoss: 0.356655\n",
      "Train Epoch: 4 [27520/60000 (46%)]\tLoss: 0.149656\n",
      "Train Epoch: 4 [28160/60000 (47%)]\tLoss: 0.322443\n",
      "Train Epoch: 4 [28800/60000 (48%)]\tLoss: 0.221662\n",
      "Train Epoch: 4 [29440/60000 (49%)]\tLoss: 0.208101\n",
      "Train Epoch: 4 [30080/60000 (50%)]\tLoss: 0.153462\n",
      "Train Epoch: 4 [30720/60000 (51%)]\tLoss: 0.204100\n",
      "Train Epoch: 4 [31360/60000 (52%)]\tLoss: 0.124230\n",
      "Train Epoch: 4 [32000/60000 (53%)]\tLoss: 0.219680\n",
      "Train Epoch: 4 [32640/60000 (54%)]\tLoss: 0.295909\n",
      "Train Epoch: 4 [33280/60000 (55%)]\tLoss: 0.188198\n",
      "Train Epoch: 4 [33920/60000 (57%)]\tLoss: 0.396973\n",
      "Train Epoch: 4 [34560/60000 (58%)]\tLoss: 0.227050\n",
      "Train Epoch: 4 [35200/60000 (59%)]\tLoss: 0.133645\n",
      "Train Epoch: 4 [35840/60000 (60%)]\tLoss: 0.271481\n",
      "Train Epoch: 4 [36480/60000 (61%)]\tLoss: 0.154882\n",
      "Train Epoch: 4 [37120/60000 (62%)]\tLoss: 0.191327\n",
      "Train Epoch: 4 [37760/60000 (63%)]\tLoss: 0.307712\n",
      "Train Epoch: 4 [38400/60000 (64%)]\tLoss: 0.180122\n",
      "Train Epoch: 4 [39040/60000 (65%)]\tLoss: 0.120174\n",
      "Train Epoch: 4 [39680/60000 (66%)]\tLoss: 0.181487\n",
      "Train Epoch: 4 [40320/60000 (67%)]\tLoss: 0.307569\n",
      "Train Epoch: 4 [40960/60000 (68%)]\tLoss: 0.227802\n",
      "Train Epoch: 4 [41600/60000 (69%)]\tLoss: 0.134475\n",
      "Train Epoch: 4 [42240/60000 (70%)]\tLoss: 0.287157\n",
      "Train Epoch: 4 [42880/60000 (71%)]\tLoss: 0.282079\n",
      "Train Epoch: 4 [43520/60000 (72%)]\tLoss: 0.264635\n",
      "Train Epoch: 4 [44160/60000 (74%)]\tLoss: 0.322531\n",
      "Train Epoch: 4 [44800/60000 (75%)]\tLoss: 0.304498\n",
      "Train Epoch: 4 [45440/60000 (76%)]\tLoss: 0.235372\n",
      "Train Epoch: 4 [46080/60000 (77%)]\tLoss: 0.171761\n",
      "Train Epoch: 4 [46720/60000 (78%)]\tLoss: 0.336775\n",
      "Train Epoch: 4 [47360/60000 (79%)]\tLoss: 0.128665\n",
      "Train Epoch: 4 [48000/60000 (80%)]\tLoss: 0.265697\n",
      "Train Epoch: 4 [48640/60000 (81%)]\tLoss: 0.364271\n",
      "Train Epoch: 4 [49280/60000 (82%)]\tLoss: 0.156793\n",
      "Train Epoch: 4 [49920/60000 (83%)]\tLoss: 0.300931\n",
      "Train Epoch: 4 [50560/60000 (84%)]\tLoss: 0.219680\n",
      "Train Epoch: 4 [51200/60000 (85%)]\tLoss: 0.404324\n",
      "Train Epoch: 4 [51840/60000 (86%)]\tLoss: 0.264600\n",
      "Train Epoch: 4 [52480/60000 (87%)]\tLoss: 0.169809\n",
      "Train Epoch: 4 [53120/60000 (88%)]\tLoss: 0.280813\n",
      "Train Epoch: 4 [53760/60000 (90%)]\tLoss: 0.289968\n",
      "Train Epoch: 4 [54400/60000 (91%)]\tLoss: 0.314736\n",
      "Train Epoch: 4 [55040/60000 (92%)]\tLoss: 0.324410\n",
      "Train Epoch: 4 [55680/60000 (93%)]\tLoss: 0.311078\n",
      "Train Epoch: 4 [56320/60000 (94%)]\tLoss: 0.240495\n",
      "Train Epoch: 4 [56960/60000 (95%)]\tLoss: 0.223288\n",
      "Train Epoch: 4 [57600/60000 (96%)]\tLoss: 0.222768\n",
      "Train Epoch: 4 [58240/60000 (97%)]\tLoss: 0.183598\n",
      "Train Epoch: 4 [58880/60000 (98%)]\tLoss: 0.285237\n",
      "Train Epoch: 4 [59520/60000 (99%)]\tLoss: 0.256241\n",
      "\n",
      "Test set: Avg. loss: 0.0807, Accuracy: 9741/10000 (97%)\n",
      "\n",
      "Train Epoch: 5 [0/60000 (0%)]\tLoss: 0.694215\n",
      "Train Epoch: 5 [640/60000 (1%)]\tLoss: 0.256779\n",
      "Train Epoch: 5 [1280/60000 (2%)]\tLoss: 0.412664\n",
      "Train Epoch: 5 [1920/60000 (3%)]\tLoss: 0.297557\n",
      "Train Epoch: 5 [2560/60000 (4%)]\tLoss: 0.110073\n",
      "Train Epoch: 5 [3200/60000 (5%)]\tLoss: 0.239522\n",
      "Train Epoch: 5 [3840/60000 (6%)]\tLoss: 0.197174\n",
      "Train Epoch: 5 [4480/60000 (7%)]\tLoss: 0.190258\n",
      "Train Epoch: 5 [5120/60000 (9%)]\tLoss: 0.156566\n",
      "Train Epoch: 5 [5760/60000 (10%)]\tLoss: 0.263034\n",
      "Train Epoch: 5 [6400/60000 (11%)]\tLoss: 0.207149\n",
      "Train Epoch: 5 [7040/60000 (12%)]\tLoss: 0.201460\n",
      "Train Epoch: 5 [7680/60000 (13%)]\tLoss: 0.153440\n",
      "Train Epoch: 5 [8320/60000 (14%)]\tLoss: 0.194236\n",
      "Train Epoch: 5 [8960/60000 (15%)]\tLoss: 0.202447\n",
      "Train Epoch: 5 [9600/60000 (16%)]\tLoss: 0.391578\n",
      "Train Epoch: 5 [10240/60000 (17%)]\tLoss: 0.381941\n",
      "Train Epoch: 5 [10880/60000 (18%)]\tLoss: 0.407024\n",
      "Train Epoch: 5 [11520/60000 (19%)]\tLoss: 0.240220\n",
      "Train Epoch: 5 [12160/60000 (20%)]\tLoss: 0.103058\n",
      "Train Epoch: 5 [12800/60000 (21%)]\tLoss: 0.287829\n",
      "Train Epoch: 5 [13440/60000 (22%)]\tLoss: 0.305914\n",
      "Train Epoch: 5 [14080/60000 (23%)]\tLoss: 0.205984\n",
      "Train Epoch: 5 [14720/60000 (25%)]\tLoss: 0.237367\n",
      "Train Epoch: 5 [15360/60000 (26%)]\tLoss: 0.116478\n",
      "Train Epoch: 5 [16000/60000 (27%)]\tLoss: 0.188929\n",
      "Train Epoch: 5 [16640/60000 (28%)]\tLoss: 0.320184\n",
      "Train Epoch: 5 [17280/60000 (29%)]\tLoss: 0.158906\n",
      "Train Epoch: 5 [17920/60000 (30%)]\tLoss: 0.201057\n",
      "Train Epoch: 5 [18560/60000 (31%)]\tLoss: 0.078389\n",
      "Train Epoch: 5 [19200/60000 (32%)]\tLoss: 0.208872\n",
      "Train Epoch: 5 [19840/60000 (33%)]\tLoss: 0.243122\n",
      "Train Epoch: 5 [20480/60000 (34%)]\tLoss: 0.143818\n",
      "Train Epoch: 5 [21120/60000 (35%)]\tLoss: 0.281949\n",
      "Train Epoch: 5 [21760/60000 (36%)]\tLoss: 0.273039\n",
      "Train Epoch: 5 [22400/60000 (37%)]\tLoss: 0.106713\n",
      "Train Epoch: 5 [23040/60000 (38%)]\tLoss: 0.299477\n",
      "Train Epoch: 5 [23680/60000 (39%)]\tLoss: 0.144013\n",
      "Train Epoch: 5 [24320/60000 (41%)]\tLoss: 0.119601\n",
      "Train Epoch: 5 [24960/60000 (42%)]\tLoss: 0.288753\n",
      "Train Epoch: 5 [25600/60000 (43%)]\tLoss: 0.110472\n",
      "Train Epoch: 5 [26240/60000 (44%)]\tLoss: 0.182435\n",
      "Train Epoch: 5 [26880/60000 (45%)]\tLoss: 0.350019\n",
      "Train Epoch: 5 [27520/60000 (46%)]\tLoss: 0.222354\n",
      "Train Epoch: 5 [28160/60000 (47%)]\tLoss: 0.120649\n",
      "Train Epoch: 5 [28800/60000 (48%)]\tLoss: 0.171898\n",
      "Train Epoch: 5 [29440/60000 (49%)]\tLoss: 0.280024\n",
      "Train Epoch: 5 [30080/60000 (50%)]\tLoss: 0.149322\n",
      "Train Epoch: 5 [30720/60000 (51%)]\tLoss: 0.181163\n",
      "Train Epoch: 5 [31360/60000 (52%)]\tLoss: 0.381910\n",
      "Train Epoch: 5 [32000/60000 (53%)]\tLoss: 0.303820\n",
      "Train Epoch: 5 [32640/60000 (54%)]\tLoss: 0.254066\n",
      "Train Epoch: 5 [33280/60000 (55%)]\tLoss: 0.210592\n",
      "Train Epoch: 5 [33920/60000 (57%)]\tLoss: 0.236279\n",
      "Train Epoch: 5 [34560/60000 (58%)]\tLoss: 0.149426\n",
      "Train Epoch: 5 [35200/60000 (59%)]\tLoss: 0.187737\n",
      "Train Epoch: 5 [35840/60000 (60%)]\tLoss: 0.243035\n",
      "Train Epoch: 5 [36480/60000 (61%)]\tLoss: 0.080888\n",
      "Train Epoch: 5 [37120/60000 (62%)]\tLoss: 0.125618\n",
      "Train Epoch: 5 [37760/60000 (63%)]\tLoss: 0.153906\n",
      "Train Epoch: 5 [38400/60000 (64%)]\tLoss: 0.198415\n",
      "Train Epoch: 5 [39040/60000 (65%)]\tLoss: 0.621681\n",
      "Train Epoch: 5 [39680/60000 (66%)]\tLoss: 0.252516\n",
      "Train Epoch: 5 [40320/60000 (67%)]\tLoss: 0.136025\n",
      "Train Epoch: 5 [40960/60000 (68%)]\tLoss: 0.157814\n",
      "Train Epoch: 5 [41600/60000 (69%)]\tLoss: 0.222928\n",
      "Train Epoch: 5 [42240/60000 (70%)]\tLoss: 0.257699\n",
      "Train Epoch: 5 [42880/60000 (71%)]\tLoss: 0.231132\n",
      "Train Epoch: 5 [43520/60000 (72%)]\tLoss: 0.286396\n",
      "Train Epoch: 5 [44160/60000 (74%)]\tLoss: 0.145193\n",
      "Train Epoch: 5 [44800/60000 (75%)]\tLoss: 0.458587\n",
      "Train Epoch: 5 [45440/60000 (76%)]\tLoss: 0.264462\n",
      "Train Epoch: 5 [46080/60000 (77%)]\tLoss: 0.224468\n",
      "Train Epoch: 5 [46720/60000 (78%)]\tLoss: 0.248583\n",
      "Train Epoch: 5 [47360/60000 (79%)]\tLoss: 0.207150\n",
      "Train Epoch: 5 [48000/60000 (80%)]\tLoss: 0.338051\n",
      "Train Epoch: 5 [48640/60000 (81%)]\tLoss: 0.251400\n",
      "Train Epoch: 5 [49280/60000 (82%)]\tLoss: 0.221444\n",
      "Train Epoch: 5 [49920/60000 (83%)]\tLoss: 0.368871\n",
      "Train Epoch: 5 [50560/60000 (84%)]\tLoss: 0.118886\n",
      "Train Epoch: 5 [51200/60000 (85%)]\tLoss: 0.324344\n",
      "Train Epoch: 5 [51840/60000 (86%)]\tLoss: 0.168683\n",
      "Train Epoch: 5 [52480/60000 (87%)]\tLoss: 0.293017\n",
      "Train Epoch: 5 [53120/60000 (88%)]\tLoss: 0.108748\n",
      "Train Epoch: 5 [53760/60000 (90%)]\tLoss: 0.142034\n",
      "Train Epoch: 5 [54400/60000 (91%)]\tLoss: 0.113458\n",
      "Train Epoch: 5 [55040/60000 (92%)]\tLoss: 0.301889\n",
      "Train Epoch: 5 [55680/60000 (93%)]\tLoss: 0.142361\n",
      "Train Epoch: 5 [56320/60000 (94%)]\tLoss: 0.193119\n",
      "Train Epoch: 5 [56960/60000 (95%)]\tLoss: 0.403086\n",
      "Train Epoch: 5 [57600/60000 (96%)]\tLoss: 0.303036\n",
      "Train Epoch: 5 [58240/60000 (97%)]\tLoss: 0.227041\n",
      "Train Epoch: 5 [58880/60000 (98%)]\tLoss: 0.156527\n",
      "Train Epoch: 5 [59520/60000 (99%)]\tLoss: 0.111713\n",
      "\n",
      "Test set: Avg. loss: 0.0719, Accuracy: 9776/10000 (98%)\n",
      "\n",
      "Train Epoch: 6 [0/60000 (0%)]\tLoss: 0.361646\n",
      "Train Epoch: 6 [640/60000 (1%)]\tLoss: 0.394412\n",
      "Train Epoch: 6 [1280/60000 (2%)]\tLoss: 0.342427\n",
      "Train Epoch: 6 [1920/60000 (3%)]\tLoss: 0.134183\n",
      "Train Epoch: 6 [2560/60000 (4%)]\tLoss: 0.182842\n",
      "Train Epoch: 6 [3200/60000 (5%)]\tLoss: 0.289622\n",
      "Train Epoch: 6 [3840/60000 (6%)]\tLoss: 0.281655\n",
      "Train Epoch: 6 [4480/60000 (7%)]\tLoss: 0.281035\n",
      "Train Epoch: 6 [5120/60000 (9%)]\tLoss: 0.143749\n",
      "Train Epoch: 6 [5760/60000 (10%)]\tLoss: 0.211268\n",
      "Train Epoch: 6 [6400/60000 (11%)]\tLoss: 0.251894\n",
      "Train Epoch: 6 [7040/60000 (12%)]\tLoss: 0.281872\n",
      "Train Epoch: 6 [7680/60000 (13%)]\tLoss: 0.252605\n",
      "Train Epoch: 6 [8320/60000 (14%)]\tLoss: 0.162092\n",
      "Train Epoch: 6 [8960/60000 (15%)]\tLoss: 0.200435\n",
      "Train Epoch: 6 [9600/60000 (16%)]\tLoss: 0.296516\n",
      "Train Epoch: 6 [10240/60000 (17%)]\tLoss: 0.252136\n",
      "Train Epoch: 6 [10880/60000 (18%)]\tLoss: 0.191382\n",
      "Train Epoch: 6 [11520/60000 (19%)]\tLoss: 0.229291\n",
      "Train Epoch: 6 [12160/60000 (20%)]\tLoss: 0.181403\n",
      "Train Epoch: 6 [12800/60000 (21%)]\tLoss: 0.283289\n",
      "Train Epoch: 6 [13440/60000 (22%)]\tLoss: 0.191257\n",
      "Train Epoch: 6 [14080/60000 (23%)]\tLoss: 0.112371\n",
      "Train Epoch: 6 [14720/60000 (25%)]\tLoss: 0.240397\n",
      "Train Epoch: 6 [15360/60000 (26%)]\tLoss: 0.121236\n",
      "Train Epoch: 6 [16000/60000 (27%)]\tLoss: 0.237825\n",
      "Train Epoch: 6 [16640/60000 (28%)]\tLoss: 0.274816\n",
      "Train Epoch: 6 [17280/60000 (29%)]\tLoss: 0.373821\n",
      "Train Epoch: 6 [17920/60000 (30%)]\tLoss: 0.102358\n",
      "Train Epoch: 6 [18560/60000 (31%)]\tLoss: 0.438211\n",
      "Train Epoch: 6 [19200/60000 (32%)]\tLoss: 0.481892\n",
      "Train Epoch: 6 [19840/60000 (33%)]\tLoss: 0.241459\n",
      "Train Epoch: 6 [20480/60000 (34%)]\tLoss: 0.198014\n",
      "Train Epoch: 6 [21120/60000 (35%)]\tLoss: 0.176559\n",
      "Train Epoch: 6 [21760/60000 (36%)]\tLoss: 0.322658\n",
      "Train Epoch: 6 [22400/60000 (37%)]\tLoss: 0.305799\n",
      "Train Epoch: 6 [23040/60000 (38%)]\tLoss: 0.277949\n",
      "Train Epoch: 6 [23680/60000 (39%)]\tLoss: 0.042129\n",
      "Train Epoch: 6 [24320/60000 (41%)]\tLoss: 0.272282\n",
      "Train Epoch: 6 [24960/60000 (42%)]\tLoss: 0.160636\n",
      "Train Epoch: 6 [25600/60000 (43%)]\tLoss: 0.411625\n",
      "Train Epoch: 6 [26240/60000 (44%)]\tLoss: 0.236668\n",
      "Train Epoch: 6 [26880/60000 (45%)]\tLoss: 0.438734\n",
      "Train Epoch: 6 [27520/60000 (46%)]\tLoss: 0.171510\n",
      "Train Epoch: 6 [28160/60000 (47%)]\tLoss: 0.174465\n",
      "Train Epoch: 6 [28800/60000 (48%)]\tLoss: 0.333954\n",
      "Train Epoch: 6 [29440/60000 (49%)]\tLoss: 0.252794\n",
      "Train Epoch: 6 [30080/60000 (50%)]\tLoss: 0.274026\n",
      "Train Epoch: 6 [30720/60000 (51%)]\tLoss: 0.106830\n",
      "Train Epoch: 6 [31360/60000 (52%)]\tLoss: 0.361055\n",
      "Train Epoch: 6 [32000/60000 (53%)]\tLoss: 0.169768\n",
      "Train Epoch: 6 [32640/60000 (54%)]\tLoss: 0.263641\n",
      "Train Epoch: 6 [33280/60000 (55%)]\tLoss: 0.167082\n",
      "Train Epoch: 6 [33920/60000 (57%)]\tLoss: 0.206135\n",
      "Train Epoch: 6 [34560/60000 (58%)]\tLoss: 0.317987\n",
      "Train Epoch: 6 [35200/60000 (59%)]\tLoss: 0.168977\n",
      "Train Epoch: 6 [35840/60000 (60%)]\tLoss: 0.199893\n",
      "Train Epoch: 6 [36480/60000 (61%)]\tLoss: 0.129105\n",
      "Train Epoch: 6 [37120/60000 (62%)]\tLoss: 0.155552\n",
      "Train Epoch: 6 [37760/60000 (63%)]\tLoss: 0.354432\n",
      "Train Epoch: 6 [38400/60000 (64%)]\tLoss: 0.097292\n",
      "Train Epoch: 6 [39040/60000 (65%)]\tLoss: 0.114732\n",
      "Train Epoch: 6 [39680/60000 (66%)]\tLoss: 0.229182\n",
      "Train Epoch: 6 [40320/60000 (67%)]\tLoss: 0.135665\n",
      "Train Epoch: 6 [40960/60000 (68%)]\tLoss: 0.215872\n",
      "Train Epoch: 6 [41600/60000 (69%)]\tLoss: 0.141597\n",
      "Train Epoch: 6 [42240/60000 (70%)]\tLoss: 0.437778\n",
      "Train Epoch: 6 [42880/60000 (71%)]\tLoss: 0.263980\n",
      "Train Epoch: 6 [43520/60000 (72%)]\tLoss: 0.157757\n",
      "Train Epoch: 6 [44160/60000 (74%)]\tLoss: 0.114077\n",
      "Train Epoch: 6 [44800/60000 (75%)]\tLoss: 0.177690\n",
      "Train Epoch: 6 [45440/60000 (76%)]\tLoss: 0.283829\n",
      "Train Epoch: 6 [46080/60000 (77%)]\tLoss: 0.219602\n",
      "Train Epoch: 6 [46720/60000 (78%)]\tLoss: 0.232951\n",
      "Train Epoch: 6 [47360/60000 (79%)]\tLoss: 0.158160\n",
      "Train Epoch: 6 [48000/60000 (80%)]\tLoss: 0.172805\n",
      "Train Epoch: 6 [48640/60000 (81%)]\tLoss: 0.143931\n",
      "Train Epoch: 6 [49280/60000 (82%)]\tLoss: 0.057007\n",
      "Train Epoch: 6 [49920/60000 (83%)]\tLoss: 0.164652\n",
      "Train Epoch: 6 [50560/60000 (84%)]\tLoss: 0.223796\n",
      "Train Epoch: 6 [51200/60000 (85%)]\tLoss: 0.113027\n",
      "Train Epoch: 6 [51840/60000 (86%)]\tLoss: 0.162592\n",
      "Train Epoch: 6 [52480/60000 (87%)]\tLoss: 0.312314\n",
      "Train Epoch: 6 [53120/60000 (88%)]\tLoss: 0.207058\n",
      "Train Epoch: 6 [53760/60000 (90%)]\tLoss: 0.280527\n",
      "Train Epoch: 6 [54400/60000 (91%)]\tLoss: 0.173581\n",
      "Train Epoch: 6 [55040/60000 (92%)]\tLoss: 0.341839\n",
      "Train Epoch: 6 [55680/60000 (93%)]\tLoss: 0.166932\n",
      "Train Epoch: 6 [56320/60000 (94%)]\tLoss: 0.321939\n",
      "Train Epoch: 6 [56960/60000 (95%)]\tLoss: 0.441116\n",
      "Train Epoch: 6 [57600/60000 (96%)]\tLoss: 0.224788\n",
      "Train Epoch: 6 [58240/60000 (97%)]\tLoss: 0.110257\n",
      "Train Epoch: 6 [58880/60000 (98%)]\tLoss: 0.150932\n",
      "Train Epoch: 6 [59520/60000 (99%)]\tLoss: 0.156508\n",
      "\n",
      "Test set: Avg. loss: 0.0690, Accuracy: 9777/10000 (98%)\n",
      "\n",
      "Train Epoch: 7 [0/60000 (0%)]\tLoss: 0.354030\n",
      "Train Epoch: 7 [640/60000 (1%)]\tLoss: 0.257486\n",
      "Train Epoch: 7 [1280/60000 (2%)]\tLoss: 0.478937\n",
      "Train Epoch: 7 [1920/60000 (3%)]\tLoss: 0.191739\n",
      "Train Epoch: 7 [2560/60000 (4%)]\tLoss: 0.088410\n",
      "Train Epoch: 7 [3200/60000 (5%)]\tLoss: 0.160105\n",
      "Train Epoch: 7 [3840/60000 (6%)]\tLoss: 0.159528\n",
      "Train Epoch: 7 [4480/60000 (7%)]\tLoss: 0.105710\n",
      "Train Epoch: 7 [5120/60000 (9%)]\tLoss: 0.202587\n",
      "Train Epoch: 7 [5760/60000 (10%)]\tLoss: 0.262248\n",
      "Train Epoch: 7 [6400/60000 (11%)]\tLoss: 0.224117\n",
      "Train Epoch: 7 [7040/60000 (12%)]\tLoss: 0.230718\n",
      "Train Epoch: 7 [7680/60000 (13%)]\tLoss: 0.145548\n",
      "Train Epoch: 7 [8320/60000 (14%)]\tLoss: 0.272951\n",
      "Train Epoch: 7 [8960/60000 (15%)]\tLoss: 0.169066\n",
      "Train Epoch: 7 [9600/60000 (16%)]\tLoss: 0.293761\n",
      "Train Epoch: 7 [10240/60000 (17%)]\tLoss: 0.197850\n",
      "Train Epoch: 7 [10880/60000 (18%)]\tLoss: 0.436572\n",
      "Train Epoch: 7 [11520/60000 (19%)]\tLoss: 0.339516\n",
      "Train Epoch: 7 [12160/60000 (20%)]\tLoss: 0.115013\n",
      "Train Epoch: 7 [12800/60000 (21%)]\tLoss: 0.171351\n",
      "Train Epoch: 7 [13440/60000 (22%)]\tLoss: 0.112366\n",
      "Train Epoch: 7 [14080/60000 (23%)]\tLoss: 0.082570\n",
      "Train Epoch: 7 [14720/60000 (25%)]\tLoss: 0.284711\n",
      "Train Epoch: 7 [15360/60000 (26%)]\tLoss: 0.118253\n",
      "Train Epoch: 7 [16000/60000 (27%)]\tLoss: 0.113622\n",
      "Train Epoch: 7 [16640/60000 (28%)]\tLoss: 0.094251\n",
      "Train Epoch: 7 [17280/60000 (29%)]\tLoss: 0.099328\n",
      "Train Epoch: 7 [17920/60000 (30%)]\tLoss: 0.131110\n",
      "Train Epoch: 7 [18560/60000 (31%)]\tLoss: 0.137842\n",
      "Train Epoch: 7 [19200/60000 (32%)]\tLoss: 0.178906\n",
      "Train Epoch: 7 [19840/60000 (33%)]\tLoss: 0.200595\n",
      "Train Epoch: 7 [20480/60000 (34%)]\tLoss: 0.174935\n",
      "Train Epoch: 7 [21120/60000 (35%)]\tLoss: 0.275053\n",
      "Train Epoch: 7 [21760/60000 (36%)]\tLoss: 0.091506\n",
      "Train Epoch: 7 [22400/60000 (37%)]\tLoss: 0.114526\n",
      "Train Epoch: 7 [23040/60000 (38%)]\tLoss: 0.266935\n",
      "Train Epoch: 7 [23680/60000 (39%)]\tLoss: 0.422859\n",
      "Train Epoch: 7 [24320/60000 (41%)]\tLoss: 0.273325\n",
      "Train Epoch: 7 [24960/60000 (42%)]\tLoss: 0.342020\n",
      "Train Epoch: 7 [25600/60000 (43%)]\tLoss: 0.204505\n",
      "Train Epoch: 7 [26240/60000 (44%)]\tLoss: 0.111034\n",
      "Train Epoch: 7 [26880/60000 (45%)]\tLoss: 0.238778\n",
      "Train Epoch: 7 [27520/60000 (46%)]\tLoss: 0.186798\n",
      "Train Epoch: 7 [28160/60000 (47%)]\tLoss: 0.318589\n",
      "Train Epoch: 7 [28800/60000 (48%)]\tLoss: 0.269906\n",
      "Train Epoch: 7 [29440/60000 (49%)]\tLoss: 0.141893\n",
      "Train Epoch: 7 [30080/60000 (50%)]\tLoss: 0.047407\n",
      "Train Epoch: 7 [30720/60000 (51%)]\tLoss: 0.137942\n",
      "Train Epoch: 7 [31360/60000 (52%)]\tLoss: 0.186582\n",
      "Train Epoch: 7 [32000/60000 (53%)]\tLoss: 0.270691\n",
      "Train Epoch: 7 [32640/60000 (54%)]\tLoss: 0.185450\n",
      "Train Epoch: 7 [33280/60000 (55%)]\tLoss: 0.148060\n",
      "Train Epoch: 7 [33920/60000 (57%)]\tLoss: 0.211612\n",
      "Train Epoch: 7 [34560/60000 (58%)]\tLoss: 0.187309\n",
      "Train Epoch: 7 [35200/60000 (59%)]\tLoss: 0.180863\n",
      "Train Epoch: 7 [35840/60000 (60%)]\tLoss: 0.211187\n",
      "Train Epoch: 7 [36480/60000 (61%)]\tLoss: 0.125219\n",
      "Train Epoch: 7 [37120/60000 (62%)]\tLoss: 0.145803\n",
      "Train Epoch: 7 [37760/60000 (63%)]\tLoss: 0.142793\n",
      "Train Epoch: 7 [38400/60000 (64%)]\tLoss: 0.231074\n",
      "Train Epoch: 7 [39040/60000 (65%)]\tLoss: 0.247275\n",
      "Train Epoch: 7 [39680/60000 (66%)]\tLoss: 0.268103\n",
      "Train Epoch: 7 [40320/60000 (67%)]\tLoss: 0.337839\n",
      "Train Epoch: 7 [40960/60000 (68%)]\tLoss: 0.338532\n",
      "Train Epoch: 7 [41600/60000 (69%)]\tLoss: 0.207621\n",
      "Train Epoch: 7 [42240/60000 (70%)]\tLoss: 0.210913\n",
      "Train Epoch: 7 [42880/60000 (71%)]\tLoss: 0.218379\n",
      "Train Epoch: 7 [43520/60000 (72%)]\tLoss: 0.189037\n",
      "Train Epoch: 7 [44160/60000 (74%)]\tLoss: 0.377608\n",
      "Train Epoch: 7 [44800/60000 (75%)]\tLoss: 0.177304\n",
      "Train Epoch: 7 [45440/60000 (76%)]\tLoss: 0.261228\n",
      "Train Epoch: 7 [46080/60000 (77%)]\tLoss: 0.159559\n",
      "Train Epoch: 7 [46720/60000 (78%)]\tLoss: 0.194849\n",
      "Train Epoch: 7 [47360/60000 (79%)]\tLoss: 0.222106\n",
      "Train Epoch: 7 [48000/60000 (80%)]\tLoss: 0.160652\n",
      "Train Epoch: 7 [48640/60000 (81%)]\tLoss: 0.219561\n",
      "Train Epoch: 7 [49280/60000 (82%)]\tLoss: 0.103018\n",
      "Train Epoch: 7 [49920/60000 (83%)]\tLoss: 0.044325\n",
      "Train Epoch: 7 [50560/60000 (84%)]\tLoss: 0.142448\n",
      "Train Epoch: 7 [51200/60000 (85%)]\tLoss: 0.215850\n",
      "Train Epoch: 7 [51840/60000 (86%)]\tLoss: 0.129764\n",
      "Train Epoch: 7 [52480/60000 (87%)]\tLoss: 0.190184\n",
      "Train Epoch: 7 [53120/60000 (88%)]\tLoss: 0.058606\n",
      "Train Epoch: 7 [53760/60000 (90%)]\tLoss: 0.170628\n",
      "Train Epoch: 7 [54400/60000 (91%)]\tLoss: 0.248475\n",
      "Train Epoch: 7 [55040/60000 (92%)]\tLoss: 0.251666\n",
      "Train Epoch: 7 [55680/60000 (93%)]\tLoss: 0.251773\n",
      "Train Epoch: 7 [56320/60000 (94%)]\tLoss: 0.437609\n",
      "Train Epoch: 7 [56960/60000 (95%)]\tLoss: 0.199213\n",
      "Train Epoch: 7 [57600/60000 (96%)]\tLoss: 0.261988\n",
      "Train Epoch: 7 [58240/60000 (97%)]\tLoss: 0.105895\n",
      "Train Epoch: 7 [58880/60000 (98%)]\tLoss: 0.052686\n",
      "Train Epoch: 7 [59520/60000 (99%)]\tLoss: 0.252999\n",
      "\n",
      "Test set: Avg. loss: 0.0615, Accuracy: 9811/10000 (98%)\n",
      "\n",
      "Train Epoch: 8 [0/60000 (0%)]\tLoss: 0.158482\n",
      "Train Epoch: 8 [640/60000 (1%)]\tLoss: 0.185239\n",
      "Train Epoch: 8 [1280/60000 (2%)]\tLoss: 0.177509\n",
      "Train Epoch: 8 [1920/60000 (3%)]\tLoss: 0.152651\n",
      "Train Epoch: 8 [2560/60000 (4%)]\tLoss: 0.241044\n",
      "Train Epoch: 8 [3200/60000 (5%)]\tLoss: 0.107643\n",
      "Train Epoch: 8 [3840/60000 (6%)]\tLoss: 0.091257\n",
      "Train Epoch: 8 [4480/60000 (7%)]\tLoss: 0.129424\n",
      "Train Epoch: 8 [5120/60000 (9%)]\tLoss: 0.236360\n",
      "Train Epoch: 8 [5760/60000 (10%)]\tLoss: 0.170748\n",
      "Train Epoch: 8 [6400/60000 (11%)]\tLoss: 0.131479\n",
      "Train Epoch: 8 [7040/60000 (12%)]\tLoss: 0.421496\n",
      "Train Epoch: 8 [7680/60000 (13%)]\tLoss: 0.272086\n",
      "Train Epoch: 8 [8320/60000 (14%)]\tLoss: 0.373909\n",
      "Train Epoch: 8 [8960/60000 (15%)]\tLoss: 0.282056\n",
      "Train Epoch: 8 [9600/60000 (16%)]\tLoss: 0.117309\n",
      "Train Epoch: 8 [10240/60000 (17%)]\tLoss: 0.109336\n",
      "Train Epoch: 8 [10880/60000 (18%)]\tLoss: 0.266737\n",
      "Train Epoch: 8 [11520/60000 (19%)]\tLoss: 0.220533\n",
      "Train Epoch: 8 [12160/60000 (20%)]\tLoss: 0.198763\n",
      "Train Epoch: 8 [12800/60000 (21%)]\tLoss: 0.157522\n",
      "Train Epoch: 8 [13440/60000 (22%)]\tLoss: 0.144055\n",
      "Train Epoch: 8 [14080/60000 (23%)]\tLoss: 0.382923\n",
      "Train Epoch: 8 [14720/60000 (25%)]\tLoss: 0.577062\n",
      "Train Epoch: 8 [15360/60000 (26%)]\tLoss: 0.181232\n",
      "Train Epoch: 8 [16000/60000 (27%)]\tLoss: 0.298618\n",
      "Train Epoch: 8 [16640/60000 (28%)]\tLoss: 0.115178\n",
      "Train Epoch: 8 [17280/60000 (29%)]\tLoss: 0.146233\n",
      "Train Epoch: 8 [17920/60000 (30%)]\tLoss: 0.126882\n",
      "Train Epoch: 8 [18560/60000 (31%)]\tLoss: 0.232568\n",
      "Train Epoch: 8 [19200/60000 (32%)]\tLoss: 0.156977\n",
      "Train Epoch: 8 [19840/60000 (33%)]\tLoss: 0.160418\n",
      "Train Epoch: 8 [20480/60000 (34%)]\tLoss: 0.142591\n",
      "Train Epoch: 8 [21120/60000 (35%)]\tLoss: 0.226170\n",
      "Train Epoch: 8 [21760/60000 (36%)]\tLoss: 0.202771\n",
      "Train Epoch: 8 [22400/60000 (37%)]\tLoss: 0.171509\n",
      "Train Epoch: 8 [23040/60000 (38%)]\tLoss: 0.107730\n",
      "Train Epoch: 8 [23680/60000 (39%)]\tLoss: 0.160433\n",
      "Train Epoch: 8 [24320/60000 (41%)]\tLoss: 0.083068\n",
      "Train Epoch: 8 [24960/60000 (42%)]\tLoss: 0.252744\n",
      "Train Epoch: 8 [25600/60000 (43%)]\tLoss: 0.232139\n",
      "Train Epoch: 8 [26240/60000 (44%)]\tLoss: 0.185507\n",
      "Train Epoch: 8 [26880/60000 (45%)]\tLoss: 0.262571\n",
      "Train Epoch: 8 [27520/60000 (46%)]\tLoss: 0.272392\n",
      "Train Epoch: 8 [28160/60000 (47%)]\tLoss: 0.114104\n",
      "Train Epoch: 8 [28800/60000 (48%)]\tLoss: 0.120738\n",
      "Train Epoch: 8 [29440/60000 (49%)]\tLoss: 0.118662\n",
      "Train Epoch: 8 [30080/60000 (50%)]\tLoss: 0.136843\n",
      "Train Epoch: 8 [30720/60000 (51%)]\tLoss: 0.038365\n",
      "Train Epoch: 8 [31360/60000 (52%)]\tLoss: 0.264089\n",
      "Train Epoch: 8 [32000/60000 (53%)]\tLoss: 0.188287\n",
      "Train Epoch: 8 [32640/60000 (54%)]\tLoss: 0.103932\n",
      "Train Epoch: 8 [33280/60000 (55%)]\tLoss: 0.283622\n",
      "Train Epoch: 8 [33920/60000 (57%)]\tLoss: 0.199950\n",
      "Train Epoch: 8 [34560/60000 (58%)]\tLoss: 0.238783\n",
      "Train Epoch: 8 [35200/60000 (59%)]\tLoss: 0.202720\n",
      "Train Epoch: 8 [35840/60000 (60%)]\tLoss: 0.323077\n",
      "Train Epoch: 8 [36480/60000 (61%)]\tLoss: 0.113300\n",
      "Train Epoch: 8 [37120/60000 (62%)]\tLoss: 0.195099\n",
      "Train Epoch: 8 [37760/60000 (63%)]\tLoss: 0.212054\n",
      "Train Epoch: 8 [38400/60000 (64%)]\tLoss: 0.165979\n",
      "Train Epoch: 8 [39040/60000 (65%)]\tLoss: 0.252761\n",
      "Train Epoch: 8 [39680/60000 (66%)]\tLoss: 0.136546\n",
      "Train Epoch: 8 [40320/60000 (67%)]\tLoss: 0.202401\n",
      "Train Epoch: 8 [40960/60000 (68%)]\tLoss: 0.172814\n",
      "Train Epoch: 8 [41600/60000 (69%)]\tLoss: 0.239708\n",
      "Train Epoch: 8 [42240/60000 (70%)]\tLoss: 0.284530\n",
      "Train Epoch: 8 [42880/60000 (71%)]\tLoss: 0.226848\n",
      "Train Epoch: 8 [43520/60000 (72%)]\tLoss: 0.197301\n",
      "Train Epoch: 8 [44160/60000 (74%)]\tLoss: 0.172435\n",
      "Train Epoch: 8 [44800/60000 (75%)]\tLoss: 0.369166\n",
      "Train Epoch: 8 [45440/60000 (76%)]\tLoss: 0.111215\n",
      "Train Epoch: 8 [46080/60000 (77%)]\tLoss: 0.117825\n",
      "Train Epoch: 8 [46720/60000 (78%)]\tLoss: 0.110744\n",
      "Train Epoch: 8 [47360/60000 (79%)]\tLoss: 0.138424\n",
      "Train Epoch: 8 [48000/60000 (80%)]\tLoss: 0.141959\n",
      "Train Epoch: 8 [48640/60000 (81%)]\tLoss: 0.120599\n",
      "Train Epoch: 8 [49280/60000 (82%)]\tLoss: 0.172862\n",
      "Train Epoch: 8 [49920/60000 (83%)]\tLoss: 0.356221\n",
      "Train Epoch: 8 [50560/60000 (84%)]\tLoss: 0.143458\n",
      "Train Epoch: 8 [51200/60000 (85%)]\tLoss: 0.096704\n",
      "Train Epoch: 8 [51840/60000 (86%)]\tLoss: 0.278594\n",
      "Train Epoch: 8 [52480/60000 (87%)]\tLoss: 0.127339\n",
      "Train Epoch: 8 [53120/60000 (88%)]\tLoss: 0.117083\n",
      "Train Epoch: 8 [53760/60000 (90%)]\tLoss: 0.275533\n",
      "Train Epoch: 8 [54400/60000 (91%)]\tLoss: 0.423498\n",
      "Train Epoch: 8 [55040/60000 (92%)]\tLoss: 0.064285\n",
      "Train Epoch: 8 [55680/60000 (93%)]\tLoss: 0.118343\n",
      "Train Epoch: 8 [56320/60000 (94%)]\tLoss: 0.085773\n",
      "Train Epoch: 8 [56960/60000 (95%)]\tLoss: 0.151384\n",
      "Train Epoch: 8 [57600/60000 (96%)]\tLoss: 0.228660\n",
      "Train Epoch: 8 [58240/60000 (97%)]\tLoss: 0.299897\n",
      "Train Epoch: 8 [58880/60000 (98%)]\tLoss: 0.064190\n",
      "Train Epoch: 8 [59520/60000 (99%)]\tLoss: 0.392726\n",
      "\n",
      "Test set: Avg. loss: 0.0569, Accuracy: 9823/10000 (98%)\n",
      "\n"
     ]
    }
   ],
   "source": [
    "\"\"\"Again running a training loop should immediately pick up the training where we left it. \n",
    "To check on that let's simply use the same lists as before to keep track of the loss values. \"\"\"\n",
    "\n",
    "for i in range(4,9):\n",
    "  test_counter.append(i*len(train_loader.dataset))\n",
    "  train(i)\n",
    "  test()"
   ]
  },
  {
   "cell_type": "code",
   "execution_count": 23,
   "metadata": {
    "tags": []
   },
   "outputs": [
    {
     "data": {
      "text/plain": [
       "[0, 60000, 120000, 180000, 240000, 300000, 360000, 420000, 480000]"
      ]
     },
     "execution_count": 23,
     "metadata": {},
     "output_type": "execute_result"
    }
   ],
   "source": [
    "test_counter"
   ]
  },
  {
   "cell_type": "code",
   "execution_count": 24,
   "metadata": {
    "tags": []
   },
   "outputs": [
    {
     "data": {
      "text/plain": [
       "[2.3095823486328126,\n",
       " 0.18719099578857423,\n",
       " 0.11607195434570312,\n",
       " 0.0994322036743164,\n",
       " 0.08065581817626953,\n",
       " 0.07189129791259766,\n",
       " 0.06903397026062012,\n",
       " 0.06149475708007812,\n",
       " 0.0569131649017334]"
      ]
     },
     "execution_count": 24,
     "metadata": {},
     "output_type": "execute_result"
    }
   ],
   "source": [
    "test_losses"
   ]
  },
  {
   "cell_type": "code",
   "execution_count": 25,
   "metadata": {
    "id": "92Y3PQ6fqTKG",
    "tags": []
   },
   "outputs": [
    {
     "data": {
      "image/png": "[encoded data removed]",
      "text/plain": [
       "<Figure size 640x480 with 1 Axes>"
      ]
     },
     "execution_count": 25,
     "metadata": {},
     "output_type": "execute_result"
    },
    {
     "data": {
      "image/png": "[encoded data removed]",
      "text/plain": [
       "<Figure size 640x480 with 1 Axes>"
      ]
     },
     "metadata": {},
     "output_type": "display_data"
    }
   ],
   "source": [
    "# Let's visualize this to further inspect the training progress.\n",
    "\n",
    "fig = plt.figure()\n",
    "plt.plot(train_counter, train_losses, color='blue')\n",
    "plt.scatter(test_counter, test_losses, color='red')\n",
    "plt.legend(['Train Loss', 'Test Loss'], loc='upper right')\n",
    "plt.xlabel('number of training examples seen')\n",
    "plt.ylabel('negative log likelihood loss')\n",
    "fig"
   ]
  },
  {
   "cell_type": "markdown",
   "metadata": {
    "id": "6OfsIzUdq4GK"
   },
   "source": [
    "**7. Conclusion**\n",
    "\n",
    "\n",
    "TODO: \n",
    "\n",
    "* Explore the effect of increasing or decreasing the number of channels in convolutional layers.\n",
    "\n",
    "* Try doubling or halving the number of channels in each layer, and observe the effect on training and validation accuracy.\n",
    "\n",
    "* Adjust the learning rate and batch size hyperparameters to see how this affects model performance\n",
    "\n",
    "In this final section, you will summarize the results of the project, discuss any challenges or interesting findings, and suggest areas for future improvement."
   ]
  },
  {
   "cell_type": "markdown",
   "metadata": {},
   "source": [
    "**Results**\n",
    "\n",
    "With the combination of convolution and drop off layers, as well as apply ReLU activiation, we were able to achieve a low test and training loss (around an average of 0.1) while obtaining high levels of accuracy for both (around 97%). As we increased the number of epochs, the accruacy increased to 98% and losses decreased to 0.057.\n",
    "\n",
    "**Challenges Encountered**\n",
    "\n",
    "Challenges I encountered were figuring out the proper ways of iterating through the training and test datasets. Also figuring out how to properly implement the convolution layers, ReLU activation, and dropoff layers took some researching. \n",
    "\n",
    "**Interesting Findings**\n",
    "\n",
    "- Increasing or Decreasing the number of channels will have a very minor effect because changing the number of channels will proportionally change the dimensions of the channel. Utlimately the pixel count has to stay the same. When this was attempted it had little effect on the results.\n",
    "\n",
    "- Doubling the number of layers increases the ability of the neural network to grasp information from the input data. This is because initial layers typically find simple patterns in the image, while deeper layers unearth more abstract and complex patterns.\n",
    "\n",
    "- Decreasing learning rate increases the performance of the model, but training takes more time. Increasing batch size increases performance of the model, but training takes more time."
   ]
  },
  {
   "cell_type": "markdown",
   "metadata": {
    "id": "LztHFoL7BKfN"
   },
   "source": [
    "\n",
    "\n",
    "## Additional Resources"
   ]
  },
  {
   "cell_type": "markdown",
   "metadata": {
    "id": "7mRluaqhBKfN"
   },
   "source": [
    "\n",
    "- [Visualize CNN training](https://cs.stanford.edu/people/karpathy/convnetjs/)\n",
    "- [Visualize Convolution Layers](https://adamharley.com/nn_vis/)\n",
    "- [CNN Explainer](https://poloclub.github.io/cnn-explainer/)\n",
    "- [CNN In-depth Explanation](https://www.youtube.com/@far1din619/videos)\n",
    "- [Neural Network Visualization](https://www.youtube.com/watch?v=KuXjwB4LzSA&ab_channel=3Blue1Brown)\n",
    "\n",
    "- https://playground.tensorflow.org/"
   ]
  }
 ],
 "metadata": {
  "colab": {
   "provenance": []
  },
  "kernelspec": {
   "display_name": "Python 3 (ipykernel)",
   "language": "python",
   "name": "python3"
  },
  "language_info": {
   "codemirror_mode": {
    "name": "ipython",
    "version": 3
   },
   "file_extension": ".py",
   "mimetype": "text/x-python",
   "name": "python",
   "nbconvert_exporter": "python",
   "pygments_lexer": "ipython3",
   "version": "3.8.10"
  },
  "vscode": {
   "interpreter": {
    "hash": "b0fa6594d8f4cbf19f97940f81e996739fb7646882a419484c72d19e05852a7e"
   }
  }
 },
 "nbformat": 4,
 "nbformat_minor": 4
}
